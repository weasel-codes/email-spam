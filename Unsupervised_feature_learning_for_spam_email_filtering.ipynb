{
  "nbformat": 4,
  "nbformat_minor": 0,
  "metadata": {
    "colab": {
      "name": "Unsupervised_feature_learning_for_spam_email_filtering.ipynb",
      "provenance": [],
      "collapsed_sections": [
        "h6DJyBriLD3f"
      ],
      "mount_file_id": "1Gv7igXDc5QfNiEY1jaBHnU8WYuL7YnoV",
      "authorship_tag": "ABX9TyP5XSCm600P/W2TJ1OX4abW",
      "include_colab_link": true
    },
    "kernelspec": {
      "name": "python3",
      "display_name": "Python 3"
    },
    "accelerator": "GPU"
  },
  "cells": [
    {
      "cell_type": "markdown",
      "metadata": {
        "id": "view-in-github",
        "colab_type": "text"
      },
      "source": [
        "<a href=\"https://colab.research.google.com/github/weasel-codes/email-spam/blob/main/Unsupervised_feature_learning_for_spam_email_filtering.ipynb\" target=\"_parent\"><img src=\"https://colab.research.google.com/assets/colab-badge.svg\" alt=\"Open In Colab\"/></a>"
      ]
    },
    {
      "cell_type": "markdown",
      "metadata": {
        "id": "y8TVBz9AjGUR"
      },
      "source": [
        "# Unsupervised feature learning for spam email filtering"
      ]
    },
    {
      "cell_type": "code",
      "metadata": {
        "id": "KQIjXTgVi1HD",
        "colab": {
          "base_uri": "https://localhost:8080/"
        },
        "outputId": "fd1b2e39-8aa0-4852-fb4c-64e8587d82a5"
      },
      "source": [
        "import numpy as np # linear algebra\n",
        "import pandas as pd # data processing, CSV file I/O (e.g. pd.read_csv)\n",
        "import multiprocessing\n",
        "import seaborn as sns\n",
        "import email\n",
        "import matplotlib.pyplot as plt\n",
        "import os\n",
        "import string\n",
        "import nltk\n",
        "from nltk.corpus import stopwords\n",
        "nltk.download('stopwords')\n",
        "from collections import Counter\n",
        "import gensim, warnings\n",
        "import gensim.downloader as api"
      ],
      "execution_count": 13,
      "outputs": [
        {
          "output_type": "stream",
          "text": [
            "[nltk_data] Downloading package stopwords to /root/nltk_data...\n",
            "[nltk_data]   Package stopwords is already up-to-date!\n"
          ],
          "name": "stdout"
        }
      ]
    },
    {
      "cell_type": "markdown",
      "metadata": {
        "id": "tiEyeOdh2U42"
      },
      "source": [
        "# Dataset Import"
      ]
    },
    {
      "cell_type": "markdown",
      "metadata": {
        "id": "YE0IB9iS2ZZy"
      },
      "source": [
        "## Email"
      ]
    },
    {
      "cell_type": "markdown",
      "metadata": {
        "id": "DCPYi9IIIpmk"
      },
      "source": [
        "### Dataset Insight"
      ]
    },
    {
      "cell_type": "code",
      "metadata": {
        "colab": {
          "base_uri": "https://localhost:8080/",
          "height": 224
        },
        "id": "WOmwCIGk2l0F",
        "outputId": "01fd6a0a-becd-4dfb-a767-7f2736609382"
      },
      "source": [
        "df = pd.read_csv(\"/content/drive/MyDrive/ML/email-filtering/eron_email_96.csv\")\n",
        "print(\"email dataset shape : \", df.shape)\n",
        "df.head()"
      ],
      "execution_count": 51,
      "outputs": [
        {
          "output_type": "stream",
          "text": [
            "email dataset shape :  (37308, 2)\n"
          ],
          "name": "stdout"
        },
        {
          "output_type": "execute_result",
          "data": {
            "text/html": [
              "<div>\n",
              "<style scoped>\n",
              "    .dataframe tbody tr th:only-of-type {\n",
              "        vertical-align: middle;\n",
              "    }\n",
              "\n",
              "    .dataframe tbody tr th {\n",
              "        vertical-align: top;\n",
              "    }\n",
              "\n",
              "    .dataframe thead th {\n",
              "        text-align: right;\n",
              "    }\n",
              "</style>\n",
              "<table border=\"1\" class=\"dataframe\">\n",
              "  <thead>\n",
              "    <tr style=\"text-align: right;\">\n",
              "      <th></th>\n",
              "      <th>file</th>\n",
              "      <th>message</th>\n",
              "    </tr>\n",
              "  </thead>\n",
              "  <tbody>\n",
              "    <tr>\n",
              "      <th>0</th>\n",
              "      <td>allen-p/_sent_mail/1.</td>\n",
              "      <td>Message-ID: &lt;18782981.1075855378110.JavaMail.e...</td>\n",
              "    </tr>\n",
              "    <tr>\n",
              "      <th>1</th>\n",
              "      <td>allen-p/_sent_mail/10.</td>\n",
              "      <td>Message-ID: &lt;15464986.1075855378456.JavaMail.e...</td>\n",
              "    </tr>\n",
              "    <tr>\n",
              "      <th>2</th>\n",
              "      <td>allen-p/_sent_mail/100.</td>\n",
              "      <td>Message-ID: &lt;24216240.1075855687451.JavaMail.e...</td>\n",
              "    </tr>\n",
              "    <tr>\n",
              "      <th>3</th>\n",
              "      <td>allen-p/_sent_mail/1000.</td>\n",
              "      <td>Message-ID: &lt;13505866.1075863688222.JavaMail.e...</td>\n",
              "    </tr>\n",
              "    <tr>\n",
              "      <th>4</th>\n",
              "      <td>allen-p/_sent_mail/1001.</td>\n",
              "      <td>Message-ID: &lt;30922949.1075863688243.JavaMail.e...</td>\n",
              "    </tr>\n",
              "  </tbody>\n",
              "</table>\n",
              "</div>"
            ],
            "text/plain": [
              "                       file                                            message\n",
              "0     allen-p/_sent_mail/1.  Message-ID: <18782981.1075855378110.JavaMail.e...\n",
              "1    allen-p/_sent_mail/10.  Message-ID: <15464986.1075855378456.JavaMail.e...\n",
              "2   allen-p/_sent_mail/100.  Message-ID: <24216240.1075855687451.JavaMail.e...\n",
              "3  allen-p/_sent_mail/1000.  Message-ID: <13505866.1075863688222.JavaMail.e...\n",
              "4  allen-p/_sent_mail/1001.  Message-ID: <30922949.1075863688243.JavaMail.e..."
            ]
          },
          "metadata": {
            "tags": []
          },
          "execution_count": 51
        }
      ]
    },
    {
      "cell_type": "code",
      "metadata": {
        "colab": {
          "base_uri": "https://localhost:8080/"
        },
        "id": "uTOYlPgX3B4U",
        "outputId": "972f150f-3b93-461a-db07-807b8fddf0f1"
      },
      "source": [
        "print(df.loc[0]['message'])\n",
        "message = df.loc[2]['message']\n",
        "e = email.message_from_string(message)\n",
        "print(\"######## \\nEmail in json format resembling csv and column wise data : \\n\" , e.items())\n",
        "print(\"printing al the keys in message : \\n\" , e.keys())"
      ],
      "execution_count": 52,
      "outputs": [
        {
          "output_type": "stream",
          "text": [
            "Message-ID: <18782981.1075855378110.JavaMail.evans@thyme>\n",
            "Date: Mon, 14 May 2001 16:39:00 -0700 (PDT)\n",
            "From: phillip.allen@enron.com\n",
            "To: tim.belden@enron.com\n",
            "Subject: \n",
            "Mime-Version: 1.0\n",
            "Content-Type: text/plain; charset=us-ascii\n",
            "Content-Transfer-Encoding: 7bit\n",
            "X-From: Phillip K Allen\n",
            "X-To: Tim Belden <Tim Belden/Enron@EnronXGate>\n",
            "X-cc: \n",
            "X-bcc: \n",
            "X-Folder: \\Phillip_Allen_Jan2002_1\\Allen, Phillip K.\\'Sent Mail\n",
            "X-Origin: Allen-P\n",
            "X-FileName: pallen (Non-Privileged).pst\n",
            "\n",
            "Here is our forecast\n",
            "\n",
            " \n",
            "######## \n",
            "Email in json format resembling csv and column wise data : \n",
            " [('Message-ID', '<24216240.1075855687451.JavaMail.evans@thyme>'), ('Date', 'Wed, 18 Oct 2000 03:00:00 -0700 (PDT)'), ('From', 'phillip.allen@enron.com'), ('To', 'leah.arsdall@enron.com'), ('Subject', 'Re: test'), ('Mime-Version', '1.0'), ('Content-Type', 'text/plain; charset=us-ascii'), ('Content-Transfer-Encoding', '7bit'), ('X-From', 'Phillip K Allen'), ('X-To', 'Leah Van Arsdall'), ('X-cc', ''), ('X-bcc', ''), ('X-Folder', \"\\\\Phillip_Allen_Dec2000\\\\Notes Folders\\\\'sent mail\"), ('X-Origin', 'Allen-P'), ('X-FileName', 'pallen.nsf')]\n",
            "printing al the keys in message : \n",
            " ['Message-ID', 'Date', 'From', 'To', 'Subject', 'Mime-Version', 'Content-Type', 'Content-Transfer-Encoding', 'X-From', 'X-To', 'X-cc', 'X-bcc', 'X-Folder', 'X-Origin', 'X-FileName']\n"
          ],
          "name": "stdout"
        }
      ]
    },
    {
      "cell_type": "markdown",
      "metadata": {
        "id": "NEXDNVQSIsPr"
      },
      "source": [
        "### Generating required columns"
      ]
    },
    {
      "cell_type": "code",
      "metadata": {
        "colab": {
          "base_uri": "https://localhost:8080/",
          "height": 196
        },
        "id": "hjRhoC-58HhV",
        "outputId": "16ce402b-86b6-42fc-e155-603fb2ba7a26"
      },
      "source": [
        "# fetching only required columns\n",
        "def body(d):\n",
        "    message = df['message']\n",
        "    column = []\n",
        "    frm = []\n",
        "    sub = []\n",
        "    emp = []\n",
        "\n",
        "    for message in messages:\n",
        "        e = email.message_from_string(message)\n",
        "        column.append(e.get_payload())\n",
        "        frm.append(e.get('From'))\n",
        "        sub.append(e.get('Subject'))\n",
        "\n",
        "    f = df['file']\n",
        "    for string in f:\n",
        "      emp.append(string.split(\"/\")[0])\n",
        "\n",
        "    return column, frm, sub, emp\n",
        "\n",
        "df['body'], df['from'], df['subject'], df['emp'] = body(df)\n",
        "df.head(3)"
      ],
      "execution_count": 53,
      "outputs": [
        {
          "output_type": "execute_result",
          "data": {
            "text/html": [
              "<div>\n",
              "<style scoped>\n",
              "    .dataframe tbody tr th:only-of-type {\n",
              "        vertical-align: middle;\n",
              "    }\n",
              "\n",
              "    .dataframe tbody tr th {\n",
              "        vertical-align: top;\n",
              "    }\n",
              "\n",
              "    .dataframe thead th {\n",
              "        text-align: right;\n",
              "    }\n",
              "</style>\n",
              "<table border=\"1\" class=\"dataframe\">\n",
              "  <thead>\n",
              "    <tr style=\"text-align: right;\">\n",
              "      <th></th>\n",
              "      <th>file</th>\n",
              "      <th>message</th>\n",
              "      <th>body</th>\n",
              "      <th>from</th>\n",
              "      <th>subject</th>\n",
              "      <th>emp</th>\n",
              "    </tr>\n",
              "  </thead>\n",
              "  <tbody>\n",
              "    <tr>\n",
              "      <th>0</th>\n",
              "      <td>allen-p/_sent_mail/1.</td>\n",
              "      <td>Message-ID: &lt;18782981.1075855378110.JavaMail.e...</td>\n",
              "      <td>Here is our forecast\\n\\n</td>\n",
              "      <td>phillip.allen@enron.com</td>\n",
              "      <td></td>\n",
              "      <td>allen-p</td>\n",
              "    </tr>\n",
              "    <tr>\n",
              "      <th>1</th>\n",
              "      <td>allen-p/_sent_mail/10.</td>\n",
              "      <td>Message-ID: &lt;15464986.1075855378456.JavaMail.e...</td>\n",
              "      <td>Traveling to have a business meeting takes the...</td>\n",
              "      <td>phillip.allen@enron.com</td>\n",
              "      <td>Re:</td>\n",
              "      <td>allen-p</td>\n",
              "    </tr>\n",
              "    <tr>\n",
              "      <th>2</th>\n",
              "      <td>allen-p/_sent_mail/100.</td>\n",
              "      <td>Message-ID: &lt;24216240.1075855687451.JavaMail.e...</td>\n",
              "      <td>test successful.  way to go!!!</td>\n",
              "      <td>phillip.allen@enron.com</td>\n",
              "      <td>Re: test</td>\n",
              "      <td>allen-p</td>\n",
              "    </tr>\n",
              "  </tbody>\n",
              "</table>\n",
              "</div>"
            ],
            "text/plain": [
              "                      file  ...      emp\n",
              "0    allen-p/_sent_mail/1.  ...  allen-p\n",
              "1   allen-p/_sent_mail/10.  ...  allen-p\n",
              "2  allen-p/_sent_mail/100.  ...  allen-p\n",
              "\n",
              "[3 rows x 6 columns]"
            ]
          },
          "metadata": {
            "tags": []
          },
          "execution_count": 53
        }
      ]
    },
    {
      "cell_type": "markdown",
      "metadata": {
        "id": "T-hCGXU3Cmwu"
      },
      "source": [
        "### Deleted not required columns"
      ]
    },
    {
      "cell_type": "code",
      "metadata": {
        "colab": {
          "base_uri": "https://localhost:8080/",
          "height": 293
        },
        "id": "qwWpH154-Tqi",
        "outputId": "623cacfc-2c41-4e48-ce89-bc26360c6ddc"
      },
      "source": [
        "df.head()"
      ],
      "execution_count": 54,
      "outputs": [
        {
          "output_type": "execute_result",
          "data": {
            "text/html": [
              "<div>\n",
              "<style scoped>\n",
              "    .dataframe tbody tr th:only-of-type {\n",
              "        vertical-align: middle;\n",
              "    }\n",
              "\n",
              "    .dataframe tbody tr th {\n",
              "        vertical-align: top;\n",
              "    }\n",
              "\n",
              "    .dataframe thead th {\n",
              "        text-align: right;\n",
              "    }\n",
              "</style>\n",
              "<table border=\"1\" class=\"dataframe\">\n",
              "  <thead>\n",
              "    <tr style=\"text-align: right;\">\n",
              "      <th></th>\n",
              "      <th>file</th>\n",
              "      <th>message</th>\n",
              "      <th>body</th>\n",
              "      <th>from</th>\n",
              "      <th>subject</th>\n",
              "      <th>emp</th>\n",
              "    </tr>\n",
              "  </thead>\n",
              "  <tbody>\n",
              "    <tr>\n",
              "      <th>0</th>\n",
              "      <td>allen-p/_sent_mail/1.</td>\n",
              "      <td>Message-ID: &lt;18782981.1075855378110.JavaMail.e...</td>\n",
              "      <td>Here is our forecast\\n\\n</td>\n",
              "      <td>phillip.allen@enron.com</td>\n",
              "      <td></td>\n",
              "      <td>allen-p</td>\n",
              "    </tr>\n",
              "    <tr>\n",
              "      <th>1</th>\n",
              "      <td>allen-p/_sent_mail/10.</td>\n",
              "      <td>Message-ID: &lt;15464986.1075855378456.JavaMail.e...</td>\n",
              "      <td>Traveling to have a business meeting takes the...</td>\n",
              "      <td>phillip.allen@enron.com</td>\n",
              "      <td>Re:</td>\n",
              "      <td>allen-p</td>\n",
              "    </tr>\n",
              "    <tr>\n",
              "      <th>2</th>\n",
              "      <td>allen-p/_sent_mail/100.</td>\n",
              "      <td>Message-ID: &lt;24216240.1075855687451.JavaMail.e...</td>\n",
              "      <td>test successful.  way to go!!!</td>\n",
              "      <td>phillip.allen@enron.com</td>\n",
              "      <td>Re: test</td>\n",
              "      <td>allen-p</td>\n",
              "    </tr>\n",
              "    <tr>\n",
              "      <th>3</th>\n",
              "      <td>allen-p/_sent_mail/1000.</td>\n",
              "      <td>Message-ID: &lt;13505866.1075863688222.JavaMail.e...</td>\n",
              "      <td>Randy,\\n\\n Can you send me a schedule of the s...</td>\n",
              "      <td>phillip.allen@enron.com</td>\n",
              "      <td></td>\n",
              "      <td>allen-p</td>\n",
              "    </tr>\n",
              "    <tr>\n",
              "      <th>4</th>\n",
              "      <td>allen-p/_sent_mail/1001.</td>\n",
              "      <td>Message-ID: &lt;30922949.1075863688243.JavaMail.e...</td>\n",
              "      <td>Let's shoot for Tuesday at 11:45.</td>\n",
              "      <td>phillip.allen@enron.com</td>\n",
              "      <td>Re: Hello</td>\n",
              "      <td>allen-p</td>\n",
              "    </tr>\n",
              "  </tbody>\n",
              "</table>\n",
              "</div>"
            ],
            "text/plain": [
              "                       file  ...      emp\n",
              "0     allen-p/_sent_mail/1.  ...  allen-p\n",
              "1    allen-p/_sent_mail/10.  ...  allen-p\n",
              "2   allen-p/_sent_mail/100.  ...  allen-p\n",
              "3  allen-p/_sent_mail/1000.  ...  allen-p\n",
              "4  allen-p/_sent_mail/1001.  ...  allen-p\n",
              "\n",
              "[5 rows x 6 columns]"
            ]
          },
          "metadata": {
            "tags": []
          },
          "execution_count": 54
        }
      ]
    },
    {
      "cell_type": "code",
      "metadata": {
        "colab": {
          "base_uri": "https://localhost:8080/",
          "height": 206
        },
        "id": "ZxTwpAwsCQcT",
        "outputId": "2ee15442-1259-4157-9416-1d700f1b8475"
      },
      "source": [
        "df.drop(labels = ['file','message'], axis=1, inplace=True)\n",
        "df.head()"
      ],
      "execution_count": 55,
      "outputs": [
        {
          "output_type": "execute_result",
          "data": {
            "text/html": [
              "<div>\n",
              "<style scoped>\n",
              "    .dataframe tbody tr th:only-of-type {\n",
              "        vertical-align: middle;\n",
              "    }\n",
              "\n",
              "    .dataframe tbody tr th {\n",
              "        vertical-align: top;\n",
              "    }\n",
              "\n",
              "    .dataframe thead th {\n",
              "        text-align: right;\n",
              "    }\n",
              "</style>\n",
              "<table border=\"1\" class=\"dataframe\">\n",
              "  <thead>\n",
              "    <tr style=\"text-align: right;\">\n",
              "      <th></th>\n",
              "      <th>body</th>\n",
              "      <th>from</th>\n",
              "      <th>subject</th>\n",
              "      <th>emp</th>\n",
              "    </tr>\n",
              "  </thead>\n",
              "  <tbody>\n",
              "    <tr>\n",
              "      <th>0</th>\n",
              "      <td>Here is our forecast\\n\\n</td>\n",
              "      <td>phillip.allen@enron.com</td>\n",
              "      <td></td>\n",
              "      <td>allen-p</td>\n",
              "    </tr>\n",
              "    <tr>\n",
              "      <th>1</th>\n",
              "      <td>Traveling to have a business meeting takes the...</td>\n",
              "      <td>phillip.allen@enron.com</td>\n",
              "      <td>Re:</td>\n",
              "      <td>allen-p</td>\n",
              "    </tr>\n",
              "    <tr>\n",
              "      <th>2</th>\n",
              "      <td>test successful.  way to go!!!</td>\n",
              "      <td>phillip.allen@enron.com</td>\n",
              "      <td>Re: test</td>\n",
              "      <td>allen-p</td>\n",
              "    </tr>\n",
              "    <tr>\n",
              "      <th>3</th>\n",
              "      <td>Randy,\\n\\n Can you send me a schedule of the s...</td>\n",
              "      <td>phillip.allen@enron.com</td>\n",
              "      <td></td>\n",
              "      <td>allen-p</td>\n",
              "    </tr>\n",
              "    <tr>\n",
              "      <th>4</th>\n",
              "      <td>Let's shoot for Tuesday at 11:45.</td>\n",
              "      <td>phillip.allen@enron.com</td>\n",
              "      <td>Re: Hello</td>\n",
              "      <td>allen-p</td>\n",
              "    </tr>\n",
              "  </tbody>\n",
              "</table>\n",
              "</div>"
            ],
            "text/plain": [
              "                                                body  ...      emp\n",
              "0                          Here is our forecast\\n\\n   ...  allen-p\n",
              "1  Traveling to have a business meeting takes the...  ...  allen-p\n",
              "2                     test successful.  way to go!!!  ...  allen-p\n",
              "3  Randy,\\n\\n Can you send me a schedule of the s...  ...  allen-p\n",
              "4                Let's shoot for Tuesday at 11:45.    ...  allen-p\n",
              "\n",
              "[5 rows x 4 columns]"
            ]
          },
          "metadata": {
            "tags": []
          },
          "execution_count": 55
        }
      ]
    },
    {
      "cell_type": "markdown",
      "metadata": {
        "id": "tHs3Mn-kI5c8"
      },
      "source": [
        "### Replace empty missing values in subject with np.nan"
      ]
    },
    {
      "cell_type": "code",
      "metadata": {
        "colab": {
          "base_uri": "https://localhost:8080/"
        },
        "id": "ERjk5iH5JRrV",
        "outputId": "1f6d8e0b-3305-4bfe-fdee-cb4779a82821"
      },
      "source": [
        "df.isnull().sum(), df.shape"
      ],
      "execution_count": 56,
      "outputs": [
        {
          "output_type": "execute_result",
          "data": {
            "text/plain": [
              "(body       0\n",
              " from       0\n",
              " subject    0\n",
              " emp        0\n",
              " dtype: int64, (37308, 4))"
            ]
          },
          "metadata": {
            "tags": []
          },
          "execution_count": 56
        }
      ]
    },
    {
      "cell_type": "code",
      "metadata": {
        "id": "IjWpJHBZI50u"
      },
      "source": [
        "def replace_empty_with_nan(subject):\n",
        "    column = []\n",
        "    for val in subject:\n",
        "        if (val == \"\"):\n",
        "            column.append(np.nan) \n",
        "        else:\n",
        "            column.append(val)\n",
        "    return column\n",
        "df['subject'] = replace_empty_with_nan(df['subject'])"
      ],
      "execution_count": 57,
      "outputs": []
    },
    {
      "cell_type": "markdown",
      "metadata": {
        "id": "fEtkwx_WJFBz"
      },
      "source": [
        "### Check for isnull"
      ]
    },
    {
      "cell_type": "code",
      "metadata": {
        "colab": {
          "base_uri": "https://localhost:8080/"
        },
        "id": "zcNY-6bsI3Ee",
        "outputId": "4b63b1ba-abe0-4a46-d671-088f6698aa35"
      },
      "source": [
        "# drop missing value rows\n",
        "df.dropna(axis=0, inplace=True)\n",
        "df.isnull().sum(), df.shape"
      ],
      "execution_count": 58,
      "outputs": [
        {
          "output_type": "execute_result",
          "data": {
            "text/plain": [
              "(body       0\n",
              " from       0\n",
              " subject    0\n",
              " emp        0\n",
              " dtype: int64, (34553, 4))"
            ]
          },
          "metadata": {
            "tags": []
          },
          "execution_count": 58
        }
      ]
    },
    {
      "cell_type": "markdown",
      "metadata": {
        "id": "dVsgKjhFJuNJ"
      },
      "source": [
        "### Top 10 email sender"
      ]
    },
    {
      "cell_type": "markdown",
      "metadata": {
        "id": "YdIulI97J_Uh"
      },
      "source": [
        "SELECT"
      ]
    },
    {
      "cell_type": "code",
      "metadata": {
        "colab": {
          "base_uri": "https://localhost:8080/",
          "height": 363
        },
        "id": "hrJrLnVaJzyw",
        "outputId": "a1ff8dc3-aa58-4043-ddf1-a4ef315b097e"
      },
      "source": [
        "top_10 = pd.DataFrame(df['emp'].value_counts()[:10])\n",
        "top_10.reset_index(inplace=True)\n",
        "top_10.columns = [\"emp\", \"count\"]\n",
        "top_10"
      ],
      "execution_count": 62,
      "outputs": [
        {
          "output_type": "execute_result",
          "data": {
            "text/html": [
              "<div>\n",
              "<style scoped>\n",
              "    .dataframe tbody tr th:only-of-type {\n",
              "        vertical-align: middle;\n",
              "    }\n",
              "\n",
              "    .dataframe tbody tr th {\n",
              "        vertical-align: top;\n",
              "    }\n",
              "\n",
              "    .dataframe thead th {\n",
              "        text-align: right;\n",
              "    }\n",
              "</style>\n",
              "<table border=\"1\" class=\"dataframe\">\n",
              "  <thead>\n",
              "    <tr style=\"text-align: right;\">\n",
              "      <th></th>\n",
              "      <th>emp</th>\n",
              "      <th>count</th>\n",
              "    </tr>\n",
              "  </thead>\n",
              "  <tbody>\n",
              "    <tr>\n",
              "      <th>0</th>\n",
              "      <td>beck-s</td>\n",
              "      <td>11693</td>\n",
              "    </tr>\n",
              "    <tr>\n",
              "      <th>1</th>\n",
              "      <td>bass-e</td>\n",
              "      <td>7229</td>\n",
              "    </tr>\n",
              "    <tr>\n",
              "      <th>2</th>\n",
              "      <td>arnold-j</td>\n",
              "      <td>3896</td>\n",
              "    </tr>\n",
              "    <tr>\n",
              "      <th>3</th>\n",
              "      <td>blair-l</td>\n",
              "      <td>3369</td>\n",
              "    </tr>\n",
              "    <tr>\n",
              "      <th>4</th>\n",
              "      <td>baughman-d</td>\n",
              "      <td>2700</td>\n",
              "    </tr>\n",
              "    <tr>\n",
              "      <th>5</th>\n",
              "      <td>allen-p</td>\n",
              "      <td>2174</td>\n",
              "    </tr>\n",
              "    <tr>\n",
              "      <th>6</th>\n",
              "      <td>badeer-r</td>\n",
              "      <td>868</td>\n",
              "    </tr>\n",
              "    <tr>\n",
              "      <th>7</th>\n",
              "      <td>brawner-s</td>\n",
              "      <td>760</td>\n",
              "    </tr>\n",
              "    <tr>\n",
              "      <th>8</th>\n",
              "      <td>benson-r</td>\n",
              "      <td>755</td>\n",
              "    </tr>\n",
              "    <tr>\n",
              "      <th>9</th>\n",
              "      <td>arora-h</td>\n",
              "      <td>634</td>\n",
              "    </tr>\n",
              "  </tbody>\n",
              "</table>\n",
              "</div>"
            ],
            "text/plain": [
              "          emp  count\n",
              "0      beck-s  11693\n",
              "1      bass-e   7229\n",
              "2    arnold-j   3896\n",
              "3     blair-l   3369\n",
              "4  baughman-d   2700\n",
              "5     allen-p   2174\n",
              "6    badeer-r    868\n",
              "7   brawner-s    760\n",
              "8    benson-r    755\n",
              "9     arora-h    634"
            ]
          },
          "metadata": {
            "tags": []
          },
          "execution_count": 62
        }
      ]
    },
    {
      "cell_type": "markdown",
      "metadata": {
        "id": "z0eJk3WUJ_aZ"
      },
      "source": [
        "VISUALIZE"
      ]
    },
    {
      "cell_type": "code",
      "metadata": {
        "colab": {
          "base_uri": "https://localhost:8080/",
          "height": 513
        },
        "id": "i52Vua17JwPn",
        "outputId": "fddca996-c271-413b-8af2-2694d93387a0"
      },
      "source": [
        "plt.figure(figsize=(10,8))\n",
        "sns.barplot(y=\"emp\", x=\"count\", data=top_10, palette=\"Blues_d\")\n",
        "plt.title(\"Top 20 highest email sender employee\")\n",
        "plt.xlabel(\"Count\")\n",
        "plt.ylabel(\"Employee_name\")\n",
        "plt.show()\n",
        "\n"
      ],
      "execution_count": 66,
      "outputs": [
        {
          "output_type": "display_data",
          "data": {
            "image/png": "[encoded data removed]",
            "text/plain": [
              "<Figure size 720x576 with 1 Axes>"
            ]
          },
          "metadata": {
            "tags": [],
            "needs_background": "light"
          }
        }
      ]
    },
    {
      "cell_type": "markdown",
      "metadata": {
        "id": "ILhTVjaMj_QG"
      },
      "source": [
        "### Generating CSV"
      ]
    },
    {
      "cell_type": "code",
      "metadata": {
        "id": "H5dkRAVTKvK1"
      },
      "source": [
        "# save the data\n",
        "df.to_csv(\"/content/drive/MyDrive/ML/email-filtering/enron_email_96_cleaned_data.csv\", index=False)"
      ],
      "execution_count": 67,
      "outputs": []
    },
    {
      "cell_type": "markdown",
      "metadata": {
        "id": "h6DJyBriLD3f"
      },
      "source": [
        "## IMDB Review"
      ]
    },
    {
      "cell_type": "code",
      "metadata": {
        "colab": {
          "base_uri": "https://localhost:8080/"
        },
        "id": "bK1U1t6HLIaw",
        "outputId": "f7d81c84-1bc1-4247-dc57-41908bb3a836"
      },
      "source": [
        "arry = []\n",
        "file_name = []\n",
        "# iterate through all file \n",
        "for file in os.listdir(\"/content/drive/MyDrive/ML/email-filtering/imdb_unsup\"): \n",
        "    # Check whether file is in text format or not \n",
        "    if file.endswith(\".txt\"): \n",
        "        file_path = f\"/content/drive/MyDrive/ML/email-filtering/imdb_unsup/{file}\"\n",
        "        print(\"...Reading file : \", file_path)\n",
        "        # call read text file function \n",
        "        # read_text_file(file_path) \n",
        "        f = open(file_path, \"r\")\n",
        "        x = \"\"\n",
        "        for w in f:\n",
        "          x = x + \" \" + w\n",
        "        arry.append(x)\n",
        "        file_name.append(f.name)\n",
        "        \n",
        "imdb = [arry, file_name]"
      ],
      "execution_count": 152,
      "outputs": [
        {
          "output_type": "stream",
          "text": [
            "...Reading file :  /content/drive/MyDrive/ML/email-filtering/imdb_unsup/105_0.txt\n",
            "...Reading file :  /content/drive/MyDrive/ML/email-filtering/imdb_unsup/217_0.txt\n",
            "...Reading file :  /content/drive/MyDrive/ML/email-filtering/imdb_unsup/36_0.txt\n",
            "...Reading file :  /content/drive/MyDrive/ML/email-filtering/imdb_unsup/439_0.txt\n",
            "...Reading file :  /content/drive/MyDrive/ML/email-filtering/imdb_unsup/436_0.txt\n",
            "...Reading file :  /content/drive/MyDrive/ML/email-filtering/imdb_unsup/206_0.txt\n",
            "...Reading file :  /content/drive/MyDrive/ML/email-filtering/imdb_unsup/9_0.txt\n",
            "...Reading file :  /content/drive/MyDrive/ML/email-filtering/imdb_unsup/1_0.txt\n",
            "...Reading file :  /content/drive/MyDrive/ML/email-filtering/imdb_unsup/349_0.txt\n",
            "...Reading file :  /content/drive/MyDrive/ML/email-filtering/imdb_unsup/272_0.txt\n",
            "...Reading file :  /content/drive/MyDrive/ML/email-filtering/imdb_unsup/204_0.txt\n",
            "...Reading file :  /content/drive/MyDrive/ML/email-filtering/imdb_unsup/555_0.txt\n",
            "...Reading file :  /content/drive/MyDrive/ML/email-filtering/imdb_unsup/303_0.txt\n",
            "...Reading file :  /content/drive/MyDrive/ML/email-filtering/imdb_unsup/71_0.txt\n",
            "...Reading file :  /content/drive/MyDrive/ML/email-filtering/imdb_unsup/490_0.txt\n",
            "...Reading file :  /content/drive/MyDrive/ML/email-filtering/imdb_unsup/145_0.txt\n",
            "...Reading file :  /content/drive/MyDrive/ML/email-filtering/imdb_unsup/468_0.txt\n",
            "...Reading file :  /content/drive/MyDrive/ML/email-filtering/imdb_unsup/48_0.txt\n",
            "...Reading file :  /content/drive/MyDrive/ML/email-filtering/imdb_unsup/461_0.txt\n",
            "...Reading file :  /content/drive/MyDrive/ML/email-filtering/imdb_unsup/471_0.txt\n",
            "...Reading file :  /content/drive/MyDrive/ML/email-filtering/imdb_unsup/42_0.txt\n",
            "...Reading file :  /content/drive/MyDrive/ML/email-filtering/imdb_unsup/336_0.txt\n",
            "...Reading file :  /content/drive/MyDrive/ML/email-filtering/imdb_unsup/300_0.txt\n",
            "...Reading file :  /content/drive/MyDrive/ML/email-filtering/imdb_unsup/503_0.txt\n",
            "...Reading file :  /content/drive/MyDrive/ML/email-filtering/imdb_unsup/253_0.txt\n",
            "...Reading file :  /content/drive/MyDrive/ML/email-filtering/imdb_unsup/535_0.txt\n",
            "...Reading file :  /content/drive/MyDrive/ML/email-filtering/imdb_unsup/205_0.txt\n",
            "...Reading file :  /content/drive/MyDrive/ML/email-filtering/imdb_unsup/143_0.txt\n",
            "...Reading file :  /content/drive/MyDrive/ML/email-filtering/imdb_unsup/529_0.txt\n",
            "...Reading file :  /content/drive/MyDrive/ML/email-filtering/imdb_unsup/506_0.txt\n",
            "...Reading file :  /content/drive/MyDrive/ML/email-filtering/imdb_unsup/291_0.txt\n",
            "...Reading file :  /content/drive/MyDrive/ML/email-filtering/imdb_unsup/319_0.txt\n",
            "...Reading file :  /content/drive/MyDrive/ML/email-filtering/imdb_unsup/281_0.txt\n",
            "...Reading file :  /content/drive/MyDrive/ML/email-filtering/imdb_unsup/571_0.txt\n",
            "...Reading file :  /content/drive/MyDrive/ML/email-filtering/imdb_unsup/151_0.txt\n",
            "...Reading file :  /content/drive/MyDrive/ML/email-filtering/imdb_unsup/163_0.txt\n",
            "...Reading file :  /content/drive/MyDrive/ML/email-filtering/imdb_unsup/539_0.txt\n",
            "...Reading file :  /content/drive/MyDrive/ML/email-filtering/imdb_unsup/27_0.txt\n",
            "...Reading file :  /content/drive/MyDrive/ML/email-filtering/imdb_unsup/508_0.txt\n",
            "...Reading file :  /content/drive/MyDrive/ML/email-filtering/imdb_unsup/248_0.txt\n",
            "...Reading file :  /content/drive/MyDrive/ML/email-filtering/imdb_unsup/55_0.txt\n",
            "...Reading file :  /content/drive/MyDrive/ML/email-filtering/imdb_unsup/467_0.txt\n",
            "...Reading file :  /content/drive/MyDrive/ML/email-filtering/imdb_unsup/210_0.txt\n",
            "...Reading file :  /content/drive/MyDrive/ML/email-filtering/imdb_unsup/268_0.txt\n",
            "...Reading file :  /content/drive/MyDrive/ML/email-filtering/imdb_unsup/11_0.txt\n",
            "...Reading file :  /content/drive/MyDrive/ML/email-filtering/imdb_unsup/356_0.txt\n",
            "...Reading file :  /content/drive/MyDrive/ML/email-filtering/imdb_unsup/115_0.txt\n",
            "...Reading file :  /content/drive/MyDrive/ML/email-filtering/imdb_unsup/549_0.txt\n",
            "...Reading file :  /content/drive/MyDrive/ML/email-filtering/imdb_unsup/65_0.txt\n",
            "...Reading file :  /content/drive/MyDrive/ML/email-filtering/imdb_unsup/131_0.txt\n",
            "...Reading file :  /content/drive/MyDrive/ML/email-filtering/imdb_unsup/346_0.txt\n",
            "...Reading file :  /content/drive/MyDrive/ML/email-filtering/imdb_unsup/318_0.txt\n",
            "...Reading file :  /content/drive/MyDrive/ML/email-filtering/imdb_unsup/486_0.txt\n",
            "...Reading file :  /content/drive/MyDrive/ML/email-filtering/imdb_unsup/307_0.txt\n",
            "...Reading file :  /content/drive/MyDrive/ML/email-filtering/imdb_unsup/342_0.txt\n",
            "...Reading file :  /content/drive/MyDrive/ML/email-filtering/imdb_unsup/61_0.txt\n",
            "...Reading file :  /content/drive/MyDrive/ML/email-filtering/imdb_unsup/72_0.txt\n",
            "...Reading file :  /content/drive/MyDrive/ML/email-filtering/imdb_unsup/263_0.txt\n",
            "...Reading file :  /content/drive/MyDrive/ML/email-filtering/imdb_unsup/144_0.txt\n",
            "...Reading file :  /content/drive/MyDrive/ML/email-filtering/imdb_unsup/8_0.txt\n",
            "...Reading file :  /content/drive/MyDrive/ML/email-filtering/imdb_unsup/113_0.txt\n",
            "...Reading file :  /content/drive/MyDrive/ML/email-filtering/imdb_unsup/457_0.txt\n",
            "...Reading file :  /content/drive/MyDrive/ML/email-filtering/imdb_unsup/472_0.txt\n",
            "...Reading file :  /content/drive/MyDrive/ML/email-filtering/imdb_unsup/463_0.txt\n",
            "...Reading file :  /content/drive/MyDrive/ML/email-filtering/imdb_unsup/360_0.txt\n",
            "...Reading file :  /content/drive/MyDrive/ML/email-filtering/imdb_unsup/189_0.txt\n",
            "...Reading file :  /content/drive/MyDrive/ML/email-filtering/imdb_unsup/17_0.txt\n",
            "...Reading file :  /content/drive/MyDrive/ML/email-filtering/imdb_unsup/579_0.txt\n",
            "...Reading file :  /content/drive/MyDrive/ML/email-filtering/imdb_unsup/277_0.txt\n",
            "...Reading file :  /content/drive/MyDrive/ML/email-filtering/imdb_unsup/563_0.txt\n",
            "...Reading file :  /content/drive/MyDrive/ML/email-filtering/imdb_unsup/384_0.txt\n",
            "...Reading file :  /content/drive/MyDrive/ML/email-filtering/imdb_unsup/167_0.txt\n",
            "...Reading file :  /content/drive/MyDrive/ML/email-filtering/imdb_unsup/289_0.txt\n",
            "...Reading file :  /content/drive/MyDrive/ML/email-filtering/imdb_unsup/348_0.txt\n",
            "...Reading file :  /content/drive/MyDrive/ML/email-filtering/imdb_unsup/92_0.txt\n",
            "...Reading file :  /content/drive/MyDrive/ML/email-filtering/imdb_unsup/430_0.txt\n",
            "...Reading file :  /content/drive/MyDrive/ML/email-filtering/imdb_unsup/443_0.txt\n",
            "...Reading file :  /content/drive/MyDrive/ML/email-filtering/imdb_unsup/154_0.txt\n",
            "...Reading file :  /content/drive/MyDrive/ML/email-filtering/imdb_unsup/224_0.txt\n",
            "...Reading file :  /content/drive/MyDrive/ML/email-filtering/imdb_unsup/2_0.txt\n",
            "...Reading file :  /content/drive/MyDrive/ML/email-filtering/imdb_unsup/551_0.txt\n",
            "...Reading file :  /content/drive/MyDrive/ML/email-filtering/imdb_unsup/96_0.txt\n",
            "...Reading file :  /content/drive/MyDrive/ML/email-filtering/imdb_unsup/269_0.txt\n",
            "...Reading file :  /content/drive/MyDrive/ML/email-filtering/imdb_unsup/34_0.txt\n",
            "...Reading file :  /content/drive/MyDrive/ML/email-filtering/imdb_unsup/415_0.txt\n",
            "...Reading file :  /content/drive/MyDrive/ML/email-filtering/imdb_unsup/522_0.txt\n",
            "...Reading file :  /content/drive/MyDrive/ML/email-filtering/imdb_unsup/568_0.txt\n",
            "...Reading file :  /content/drive/MyDrive/ML/email-filtering/imdb_unsup/524_0.txt\n",
            "...Reading file :  /content/drive/MyDrive/ML/email-filtering/imdb_unsup/403_0.txt\n",
            "...Reading file :  /content/drive/MyDrive/ML/email-filtering/imdb_unsup/566_0.txt\n",
            "...Reading file :  /content/drive/MyDrive/ML/email-filtering/imdb_unsup/365_0.txt\n",
            "...Reading file :  /content/drive/MyDrive/ML/email-filtering/imdb_unsup/80_0.txt\n",
            "...Reading file :  /content/drive/MyDrive/ML/email-filtering/imdb_unsup/402_0.txt\n",
            "...Reading file :  /content/drive/MyDrive/ML/email-filtering/imdb_unsup/183_0.txt\n",
            "...Reading file :  /content/drive/MyDrive/ML/email-filtering/imdb_unsup/545_0.txt\n",
            "...Reading file :  /content/drive/MyDrive/ML/email-filtering/imdb_unsup/393_0.txt\n",
            "...Reading file :  /content/drive/MyDrive/ML/email-filtering/imdb_unsup/475_0.txt\n",
            "...Reading file :  /content/drive/MyDrive/ML/email-filtering/imdb_unsup/591_0.txt\n",
            "...Reading file :  /content/drive/MyDrive/ML/email-filtering/imdb_unsup/66_0.txt\n",
            "...Reading file :  /content/drive/MyDrive/ML/email-filtering/imdb_unsup/111_0.txt\n",
            "...Reading file :  /content/drive/MyDrive/ML/email-filtering/imdb_unsup/425_0.txt\n",
            "...Reading file :  /content/drive/MyDrive/ML/email-filtering/imdb_unsup/355_0.txt\n",
            "...Reading file :  /content/drive/MyDrive/ML/email-filtering/imdb_unsup/15_0.txt\n",
            "...Reading file :  /content/drive/MyDrive/ML/email-filtering/imdb_unsup/20_0.txt\n",
            "...Reading file :  /content/drive/MyDrive/ML/email-filtering/imdb_unsup/428_0.txt\n",
            "...Reading file :  /content/drive/MyDrive/ML/email-filtering/imdb_unsup/290_0.txt\n",
            "...Reading file :  /content/drive/MyDrive/ML/email-filtering/imdb_unsup/49_0.txt\n",
            "...Reading file :  /content/drive/MyDrive/ML/email-filtering/imdb_unsup/313_0.txt\n",
            "...Reading file :  /content/drive/MyDrive/ML/email-filtering/imdb_unsup/110_0.txt\n",
            "...Reading file :  /content/drive/MyDrive/ML/email-filtering/imdb_unsup/232_0.txt\n",
            "...Reading file :  /content/drive/MyDrive/ML/email-filtering/imdb_unsup/211_0.txt\n",
            "...Reading file :  /content/drive/MyDrive/ML/email-filtering/imdb_unsup/426_0.txt\n",
            "...Reading file :  /content/drive/MyDrive/ML/email-filtering/imdb_unsup/361_0.txt\n",
            "...Reading file :  /content/drive/MyDrive/ML/email-filtering/imdb_unsup/458_0.txt\n",
            "...Reading file :  /content/drive/MyDrive/ML/email-filtering/imdb_unsup/7_0.txt\n",
            "...Reading file :  /content/drive/MyDrive/ML/email-filtering/imdb_unsup/577_0.txt\n",
            "...Reading file :  /content/drive/MyDrive/ML/email-filtering/imdb_unsup/552_0.txt\n",
            "...Reading file :  /content/drive/MyDrive/ML/email-filtering/imdb_unsup/454_0.txt\n",
            "...Reading file :  /content/drive/MyDrive/ML/email-filtering/imdb_unsup/86_0.txt\n",
            "...Reading file :  /content/drive/MyDrive/ML/email-filtering/imdb_unsup/176_0.txt\n",
            "...Reading file :  /content/drive/MyDrive/ML/email-filtering/imdb_unsup/129_0.txt\n",
            "...Reading file :  /content/drive/MyDrive/ML/email-filtering/imdb_unsup/170_0.txt\n",
            "...Reading file :  /content/drive/MyDrive/ML/email-filtering/imdb_unsup/379_0.txt\n",
            "...Reading file :  /content/drive/MyDrive/ML/email-filtering/imdb_unsup/485_0.txt\n",
            "...Reading file :  /content/drive/MyDrive/ML/email-filtering/imdb_unsup/70_0.txt\n",
            "...Reading file :  /content/drive/MyDrive/ML/email-filtering/imdb_unsup/47_0.txt\n",
            "...Reading file :  /content/drive/MyDrive/ML/email-filtering/imdb_unsup/310_0.txt\n",
            "...Reading file :  /content/drive/MyDrive/ML/email-filtering/imdb_unsup/244_0.txt\n",
            "...Reading file :  /content/drive/MyDrive/ML/email-filtering/imdb_unsup/396_0.txt\n",
            "...Reading file :  /content/drive/MyDrive/ML/email-filtering/imdb_unsup/212_0.txt\n",
            "...Reading file :  /content/drive/MyDrive/ML/email-filtering/imdb_unsup/397_0.txt\n",
            "...Reading file :  /content/drive/MyDrive/ML/email-filtering/imdb_unsup/391_0.txt\n",
            "...Reading file :  /content/drive/MyDrive/ML/email-filtering/imdb_unsup/6_0.txt\n",
            "...Reading file :  /content/drive/MyDrive/ML/email-filtering/imdb_unsup/437_0.txt\n",
            "...Reading file :  /content/drive/MyDrive/ML/email-filtering/imdb_unsup/191_0.txt\n",
            "...Reading file :  /content/drive/MyDrive/ML/email-filtering/imdb_unsup/147_0.txt\n",
            "...Reading file :  /content/drive/MyDrive/ML/email-filtering/imdb_unsup/249_0.txt\n",
            "...Reading file :  /content/drive/MyDrive/ML/email-filtering/imdb_unsup/298_0.txt\n",
            "...Reading file :  /content/drive/MyDrive/ML/email-filtering/imdb_unsup/432_0.txt\n",
            "...Reading file :  /content/drive/MyDrive/ML/email-filtering/imdb_unsup/378_0.txt\n",
            "...Reading file :  /content/drive/MyDrive/ML/email-filtering/imdb_unsup/91_0.txt\n",
            "...Reading file :  /content/drive/MyDrive/ML/email-filtering/imdb_unsup/392_0.txt\n",
            "...Reading file :  /content/drive/MyDrive/ML/email-filtering/imdb_unsup/25_0.txt\n",
            "...Reading file :  /content/drive/MyDrive/ML/email-filtering/imdb_unsup/322_0.txt\n",
            "...Reading file :  /content/drive/MyDrive/ML/email-filtering/imdb_unsup/465_0.txt\n",
            "...Reading file :  /content/drive/MyDrive/ML/email-filtering/imdb_unsup/23_0.txt\n",
            "...Reading file :  /content/drive/MyDrive/ML/email-filtering/imdb_unsup/218_0.txt\n",
            "...Reading file :  /content/drive/MyDrive/ML/email-filtering/imdb_unsup/157_0.txt\n",
            "...Reading file :  /content/drive/MyDrive/ML/email-filtering/imdb_unsup/554_0.txt\n",
            "...Reading file :  /content/drive/MyDrive/ML/email-filtering/imdb_unsup/309_0.txt\n",
            "...Reading file :  /content/drive/MyDrive/ML/email-filtering/imdb_unsup/427_0.txt\n",
            "...Reading file :  /content/drive/MyDrive/ML/email-filtering/imdb_unsup/419_0.txt\n",
            "...Reading file :  /content/drive/MyDrive/ML/email-filtering/imdb_unsup/51_0.txt\n",
            "...Reading file :  /content/drive/MyDrive/ML/email-filtering/imdb_unsup/530_0.txt\n",
            "...Reading file :  /content/drive/MyDrive/ML/email-filtering/imdb_unsup/511_0.txt\n",
            "...Reading file :  /content/drive/MyDrive/ML/email-filtering/imdb_unsup/370_0.txt\n",
            "...Reading file :  /content/drive/MyDrive/ML/email-filtering/imdb_unsup/476_0.txt\n",
            "...Reading file :  /content/drive/MyDrive/ML/email-filtering/imdb_unsup/547_0.txt\n",
            "...Reading file :  /content/drive/MyDrive/ML/email-filtering/imdb_unsup/375_0.txt\n",
            "...Reading file :  /content/drive/MyDrive/ML/email-filtering/imdb_unsup/255_0.txt\n",
            "...Reading file :  /content/drive/MyDrive/ML/email-filtering/imdb_unsup/422_0.txt\n",
            "...Reading file :  /content/drive/MyDrive/ML/email-filtering/imdb_unsup/214_0.txt\n",
            "...Reading file :  /content/drive/MyDrive/ML/email-filtering/imdb_unsup/362_0.txt\n",
            "...Reading file :  /content/drive/MyDrive/ML/email-filtering/imdb_unsup/592_0.txt\n",
            "...Reading file :  /content/drive/MyDrive/ML/email-filtering/imdb_unsup/127_0.txt\n",
            "...Reading file :  /content/drive/MyDrive/ML/email-filtering/imdb_unsup/101_0.txt\n",
            "...Reading file :  /content/drive/MyDrive/ML/email-filtering/imdb_unsup/569_0.txt\n",
            "...Reading file :  /content/drive/MyDrive/ML/email-filtering/imdb_unsup/33_0.txt\n",
            "...Reading file :  /content/drive/MyDrive/ML/email-filtering/imdb_unsup/239_0.txt\n",
            "...Reading file :  /content/drive/MyDrive/ML/email-filtering/imdb_unsup/406_0.txt\n",
            "...Reading file :  /content/drive/MyDrive/ML/email-filtering/imdb_unsup/469_0.txt\n",
            "...Reading file :  /content/drive/MyDrive/ML/email-filtering/imdb_unsup/585_0.txt\n",
            "...Reading file :  /content/drive/MyDrive/ML/email-filtering/imdb_unsup/328_0.txt\n",
            "...Reading file :  /content/drive/MyDrive/ML/email-filtering/imdb_unsup/262_0.txt\n",
            "...Reading file :  /content/drive/MyDrive/ML/email-filtering/imdb_unsup/521_0.txt\n",
            "...Reading file :  /content/drive/MyDrive/ML/email-filtering/imdb_unsup/414_0.txt\n",
            "...Reading file :  /content/drive/MyDrive/ML/email-filtering/imdb_unsup/136_0.txt\n",
            "...Reading file :  /content/drive/MyDrive/ML/email-filtering/imdb_unsup/168_0.txt\n",
            "...Reading file :  /content/drive/MyDrive/ML/email-filtering/imdb_unsup/525_0.txt\n",
            "...Reading file :  /content/drive/MyDrive/ML/email-filtering/imdb_unsup/493_0.txt\n",
            "...Reading file :  /content/drive/MyDrive/ML/email-filtering/imdb_unsup/146_0.txt\n",
            "...Reading file :  /content/drive/MyDrive/ML/email-filtering/imdb_unsup/78_0.txt\n",
            "...Reading file :  /content/drive/MyDrive/ML/email-filtering/imdb_unsup/453_0.txt\n",
            "...Reading file :  /content/drive/MyDrive/ML/email-filtering/imdb_unsup/407_0.txt\n",
            "...Reading file :  /content/drive/MyDrive/ML/email-filtering/imdb_unsup/32_0.txt\n",
            "...Reading file :  /content/drive/MyDrive/ML/email-filtering/imdb_unsup/420_0.txt\n",
            "...Reading file :  /content/drive/MyDrive/ML/email-filtering/imdb_unsup/345_0.txt\n",
            "...Reading file :  /content/drive/MyDrive/ML/email-filtering/imdb_unsup/159_0.txt\n",
            "...Reading file :  /content/drive/MyDrive/ML/email-filtering/imdb_unsup/188_0.txt\n",
            "...Reading file :  /content/drive/MyDrive/ML/email-filtering/imdb_unsup/332_0.txt\n",
            "...Reading file :  /content/drive/MyDrive/ML/email-filtering/imdb_unsup/499_0.txt\n",
            "...Reading file :  /content/drive/MyDrive/ML/email-filtering/imdb_unsup/155_0.txt\n",
            "...Reading file :  /content/drive/MyDrive/ML/email-filtering/imdb_unsup/62_0.txt\n",
            "...Reading file :  /content/drive/MyDrive/ML/email-filtering/imdb_unsup/21_0.txt\n",
            "...Reading file :  /content/drive/MyDrive/ML/email-filtering/imdb_unsup/565_0.txt\n",
            "...Reading file :  /content/drive/MyDrive/ML/email-filtering/imdb_unsup/329_0.txt\n",
            "...Reading file :  /content/drive/MyDrive/ML/email-filtering/imdb_unsup/35_0.txt\n",
            "...Reading file :  /content/drive/MyDrive/ML/email-filtering/imdb_unsup/305_0.txt\n",
            "...Reading file :  /content/drive/MyDrive/ML/email-filtering/imdb_unsup/175_0.txt\n",
            "...Reading file :  /content/drive/MyDrive/ML/email-filtering/imdb_unsup/39_0.txt\n",
            "...Reading file :  /content/drive/MyDrive/ML/email-filtering/imdb_unsup/518_0.txt\n",
            "...Reading file :  /content/drive/MyDrive/ML/email-filtering/imdb_unsup/41_0.txt\n",
            "...Reading file :  /content/drive/MyDrive/ML/email-filtering/imdb_unsup/507_0.txt\n",
            "...Reading file :  /content/drive/MyDrive/ML/email-filtering/imdb_unsup/513_0.txt\n",
            "...Reading file :  /content/drive/MyDrive/ML/email-filtering/imdb_unsup/586_0.txt\n",
            "...Reading file :  /content/drive/MyDrive/ML/email-filtering/imdb_unsup/562_0.txt\n",
            "...Reading file :  /content/drive/MyDrive/ML/email-filtering/imdb_unsup/102_0.txt\n",
            "...Reading file :  /content/drive/MyDrive/ML/email-filtering/imdb_unsup/261_0.txt\n",
            "...Reading file :  /content/drive/MyDrive/ML/email-filtering/imdb_unsup/162_0.txt\n",
            "...Reading file :  /content/drive/MyDrive/ML/email-filtering/imdb_unsup/82_0.txt\n",
            "...Reading file :  /content/drive/MyDrive/ML/email-filtering/imdb_unsup/13_0.txt\n",
            "...Reading file :  /content/drive/MyDrive/ML/email-filtering/imdb_unsup/550_0.txt\n",
            "...Reading file :  /content/drive/MyDrive/ML/email-filtering/imdb_unsup/207_0.txt\n",
            "...Reading file :  /content/drive/MyDrive/ML/email-filtering/imdb_unsup/116_0.txt\n",
            "...Reading file :  /content/drive/MyDrive/ML/email-filtering/imdb_unsup/404_0.txt\n",
            "...Reading file :  /content/drive/MyDrive/ML/email-filtering/imdb_unsup/197_0.txt\n",
            "...Reading file :  /content/drive/MyDrive/ML/email-filtering/imdb_unsup/275_0.txt\n",
            "...Reading file :  /content/drive/MyDrive/ML/email-filtering/imdb_unsup/139_0.txt\n",
            "...Reading file :  /content/drive/MyDrive/ML/email-filtering/imdb_unsup/337_0.txt\n",
            "...Reading file :  /content/drive/MyDrive/ML/email-filtering/imdb_unsup/564_0.txt\n",
            "...Reading file :  /content/drive/MyDrive/ML/email-filtering/imdb_unsup/478_0.txt\n",
            "...Reading file :  /content/drive/MyDrive/ML/email-filtering/imdb_unsup/350_0.txt\n",
            "...Reading file :  /content/drive/MyDrive/ML/email-filtering/imdb_unsup/38_0.txt\n",
            "...Reading file :  /content/drive/MyDrive/ML/email-filtering/imdb_unsup/580_0.txt\n",
            "...Reading file :  /content/drive/MyDrive/ML/email-filtering/imdb_unsup/312_0.txt\n",
            "...Reading file :  /content/drive/MyDrive/ML/email-filtering/imdb_unsup/173_0.txt\n",
            "...Reading file :  /content/drive/MyDrive/ML/email-filtering/imdb_unsup/386_0.txt\n",
            "...Reading file :  /content/drive/MyDrive/ML/email-filtering/imdb_unsup/43_0.txt\n",
            "...Reading file :  /content/drive/MyDrive/ML/email-filtering/imdb_unsup/243_0.txt\n",
            "...Reading file :  /content/drive/MyDrive/ML/email-filtering/imdb_unsup/527_0.txt\n",
            "...Reading file :  /content/drive/MyDrive/ML/email-filtering/imdb_unsup/576_0.txt\n",
            "...Reading file :  /content/drive/MyDrive/ML/email-filtering/imdb_unsup/308_0.txt\n",
            "...Reading file :  /content/drive/MyDrive/ML/email-filtering/imdb_unsup/103_0.txt\n",
            "...Reading file :  /content/drive/MyDrive/ML/email-filtering/imdb_unsup/369_0.txt\n",
            "...Reading file :  /content/drive/MyDrive/ML/email-filtering/imdb_unsup/76_0.txt\n",
            "...Reading file :  /content/drive/MyDrive/ML/email-filtering/imdb_unsup/491_0.txt\n",
            "...Reading file :  /content/drive/MyDrive/ML/email-filtering/imdb_unsup/236_0.txt\n",
            "...Reading file :  /content/drive/MyDrive/ML/email-filtering/imdb_unsup/541_0.txt\n",
            "...Reading file :  /content/drive/MyDrive/ML/email-filtering/imdb_unsup/276_0.txt\n",
            "...Reading file :  /content/drive/MyDrive/ML/email-filtering/imdb_unsup/381_0.txt\n",
            "...Reading file :  /content/drive/MyDrive/ML/email-filtering/imdb_unsup/357_0.txt\n",
            "...Reading file :  /content/drive/MyDrive/ML/email-filtering/imdb_unsup/553_0.txt\n",
            "...Reading file :  /content/drive/MyDrive/ML/email-filtering/imdb_unsup/256_0.txt\n",
            "...Reading file :  /content/drive/MyDrive/ML/email-filtering/imdb_unsup/331_0.txt\n",
            "...Reading file :  /content/drive/MyDrive/ML/email-filtering/imdb_unsup/44_0.txt\n",
            "...Reading file :  /content/drive/MyDrive/ML/email-filtering/imdb_unsup/196_0.txt\n",
            "...Reading file :  /content/drive/MyDrive/ML/email-filtering/imdb_unsup/496_0.txt\n",
            "...Reading file :  /content/drive/MyDrive/ML/email-filtering/imdb_unsup/257_0.txt\n",
            "...Reading file :  /content/drive/MyDrive/ML/email-filtering/imdb_unsup/526_0.txt\n",
            "...Reading file :  /content/drive/MyDrive/ML/email-filtering/imdb_unsup/418_0.txt\n",
            "...Reading file :  /content/drive/MyDrive/ML/email-filtering/imdb_unsup/18_0.txt\n",
            "...Reading file :  /content/drive/MyDrive/ML/email-filtering/imdb_unsup/104_0.txt\n",
            "...Reading file :  /content/drive/MyDrive/ML/email-filtering/imdb_unsup/134_0.txt\n",
            "...Reading file :  /content/drive/MyDrive/ML/email-filtering/imdb_unsup/81_0.txt\n",
            "...Reading file :  /content/drive/MyDrive/ML/email-filtering/imdb_unsup/121_0.txt\n",
            "...Reading file :  /content/drive/MyDrive/ML/email-filtering/imdb_unsup/90_0.txt\n",
            "...Reading file :  /content/drive/MyDrive/ML/email-filtering/imdb_unsup/533_0.txt\n",
            "...Reading file :  /content/drive/MyDrive/ML/email-filtering/imdb_unsup/221_0.txt\n",
            "...Reading file :  /content/drive/MyDrive/ML/email-filtering/imdb_unsup/141_0.txt\n",
            "...Reading file :  /content/drive/MyDrive/ML/email-filtering/imdb_unsup/195_0.txt\n",
            "...Reading file :  /content/drive/MyDrive/ML/email-filtering/imdb_unsup/594_0.txt\n",
            "...Reading file :  /content/drive/MyDrive/ML/email-filtering/imdb_unsup/60_0.txt\n",
            "...Reading file :  /content/drive/MyDrive/ML/email-filtering/imdb_unsup/354_0.txt\n",
            "...Reading file :  /content/drive/MyDrive/ML/email-filtering/imdb_unsup/219_0.txt\n",
            "...Reading file :  /content/drive/MyDrive/ML/email-filtering/imdb_unsup/523_0.txt\n",
            "...Reading file :  /content/drive/MyDrive/ML/email-filtering/imdb_unsup/140_0.txt\n",
            "...Reading file :  /content/drive/MyDrive/ML/email-filtering/imdb_unsup/100_0.txt\n",
            "...Reading file :  /content/drive/MyDrive/ML/email-filtering/imdb_unsup/442_0.txt\n",
            "...Reading file :  /content/drive/MyDrive/ML/email-filtering/imdb_unsup/208_0.txt\n",
            "...Reading file :  /content/drive/MyDrive/ML/email-filtering/imdb_unsup/514_0.txt\n",
            "...Reading file :  /content/drive/MyDrive/ML/email-filtering/imdb_unsup/259_0.txt\n",
            "...Reading file :  /content/drive/MyDrive/ML/email-filtering/imdb_unsup/245_0.txt\n",
            "...Reading file :  /content/drive/MyDrive/ML/email-filtering/imdb_unsup/477_0.txt\n",
            "...Reading file :  /content/drive/MyDrive/ML/email-filtering/imdb_unsup/444_0.txt\n",
            "...Reading file :  /content/drive/MyDrive/ML/email-filtering/imdb_unsup/284_0.txt\n",
            "...Reading file :  /content/drive/MyDrive/ML/email-filtering/imdb_unsup/68_0.txt\n",
            "...Reading file :  /content/drive/MyDrive/ML/email-filtering/imdb_unsup/22_0.txt\n",
            "...Reading file :  /content/drive/MyDrive/ML/email-filtering/imdb_unsup/288_0.txt\n",
            "...Reading file :  /content/drive/MyDrive/ML/email-filtering/imdb_unsup/112_0.txt\n",
            "...Reading file :  /content/drive/MyDrive/ML/email-filtering/imdb_unsup/492_0.txt\n",
            "...Reading file :  /content/drive/MyDrive/ML/email-filtering/imdb_unsup/172_0.txt\n",
            "...Reading file :  /content/drive/MyDrive/ML/email-filtering/imdb_unsup/532_0.txt\n",
            "...Reading file :  /content/drive/MyDrive/ML/email-filtering/imdb_unsup/237_0.txt\n",
            "...Reading file :  /content/drive/MyDrive/ML/email-filtering/imdb_unsup/45_0.txt\n",
            "...Reading file :  /content/drive/MyDrive/ML/email-filtering/imdb_unsup/483_0.txt\n",
            "...Reading file :  /content/drive/MyDrive/ML/email-filtering/imdb_unsup/165_0.txt\n",
            "...Reading file :  /content/drive/MyDrive/ML/email-filtering/imdb_unsup/448_0.txt\n",
            "...Reading file :  /content/drive/MyDrive/ML/email-filtering/imdb_unsup/351_0.txt\n",
            "...Reading file :  /content/drive/MyDrive/ML/email-filtering/imdb_unsup/399_0.txt\n",
            "...Reading file :  /content/drive/MyDrive/ML/email-filtering/imdb_unsup/203_0.txt\n",
            "...Reading file :  /content/drive/MyDrive/ML/email-filtering/imdb_unsup/57_0.txt\n",
            "...Reading file :  /content/drive/MyDrive/ML/email-filtering/imdb_unsup/572_0.txt\n",
            "...Reading file :  /content/drive/MyDrive/ML/email-filtering/imdb_unsup/161_0.txt\n",
            "...Reading file :  /content/drive/MyDrive/ML/email-filtering/imdb_unsup/423_0.txt\n",
            "...Reading file :  /content/drive/MyDrive/ML/email-filtering/imdb_unsup/382_0.txt\n",
            "...Reading file :  /content/drive/MyDrive/ML/email-filtering/imdb_unsup/222_0.txt\n",
            "...Reading file :  /content/drive/MyDrive/ML/email-filtering/imdb_unsup/435_0.txt\n",
            "...Reading file :  /content/drive/MyDrive/ML/email-filtering/imdb_unsup/371_0.txt\n",
            "...Reading file :  /content/drive/MyDrive/ML/email-filtering/imdb_unsup/389_0.txt\n",
            "...Reading file :  /content/drive/MyDrive/ML/email-filtering/imdb_unsup/177_0.txt\n",
            "...Reading file :  /content/drive/MyDrive/ML/email-filtering/imdb_unsup/54_0.txt\n",
            "...Reading file :  /content/drive/MyDrive/ML/email-filtering/imdb_unsup/373_0.txt\n",
            "...Reading file :  /content/drive/MyDrive/ML/email-filtering/imdb_unsup/50_0.txt\n",
            "...Reading file :  /content/drive/MyDrive/ML/email-filtering/imdb_unsup/286_0.txt\n",
            "...Reading file :  /content/drive/MyDrive/ML/email-filtering/imdb_unsup/267_0.txt\n",
            "...Reading file :  /content/drive/MyDrive/ML/email-filtering/imdb_unsup/502_0.txt\n",
            "...Reading file :  /content/drive/MyDrive/ML/email-filtering/imdb_unsup/561_0.txt\n",
            "...Reading file :  /content/drive/MyDrive/ML/email-filtering/imdb_unsup/344_0.txt\n",
            "...Reading file :  /content/drive/MyDrive/ML/email-filtering/imdb_unsup/108_0.txt\n",
            "...Reading file :  /content/drive/MyDrive/ML/email-filtering/imdb_unsup/316_0.txt\n",
            "...Reading file :  /content/drive/MyDrive/ML/email-filtering/imdb_unsup/352_0.txt\n",
            "...Reading file :  /content/drive/MyDrive/ML/email-filtering/imdb_unsup/174_0.txt\n",
            "...Reading file :  /content/drive/MyDrive/ML/email-filtering/imdb_unsup/543_0.txt\n",
            "...Reading file :  /content/drive/MyDrive/ML/email-filtering/imdb_unsup/574_0.txt\n",
            "...Reading file :  /content/drive/MyDrive/ML/email-filtering/imdb_unsup/409_0.txt\n",
            "...Reading file :  /content/drive/MyDrive/ML/email-filtering/imdb_unsup/438_0.txt\n",
            "...Reading file :  /content/drive/MyDrive/ML/email-filtering/imdb_unsup/320_0.txt\n",
            "...Reading file :  /content/drive/MyDrive/ML/email-filtering/imdb_unsup/251_0.txt\n",
            "...Reading file :  /content/drive/MyDrive/ML/email-filtering/imdb_unsup/578_0.txt\n",
            "...Reading file :  /content/drive/MyDrive/ML/email-filtering/imdb_unsup/77_0.txt\n",
            "...Reading file :  /content/drive/MyDrive/ML/email-filtering/imdb_unsup/187_0.txt\n",
            "...Reading file :  /content/drive/MyDrive/ML/email-filtering/imdb_unsup/227_0.txt\n",
            "...Reading file :  /content/drive/MyDrive/ML/email-filtering/imdb_unsup/84_0.txt\n",
            "...Reading file :  /content/drive/MyDrive/ML/email-filtering/imdb_unsup/410_0.txt\n",
            "...Reading file :  /content/drive/MyDrive/ML/email-filtering/imdb_unsup/14_0.txt\n",
            "...Reading file :  /content/drive/MyDrive/ML/email-filtering/imdb_unsup/497_0.txt\n",
            "...Reading file :  /content/drive/MyDrive/ML/email-filtering/imdb_unsup/216_0.txt\n",
            "...Reading file :  /content/drive/MyDrive/ML/email-filtering/imdb_unsup/10_0.txt\n",
            "...Reading file :  /content/drive/MyDrive/ML/email-filtering/imdb_unsup/171_0.txt\n",
            "...Reading file :  /content/drive/MyDrive/ML/email-filtering/imdb_unsup/199_0.txt\n",
            "...Reading file :  /content/drive/MyDrive/ML/email-filtering/imdb_unsup/455_0.txt\n",
            "...Reading file :  /content/drive/MyDrive/ML/email-filtering/imdb_unsup/538_0.txt\n",
            "...Reading file :  /content/drive/MyDrive/ML/email-filtering/imdb_unsup/363_0.txt\n",
            "...Reading file :  /content/drive/MyDrive/ML/email-filtering/imdb_unsup/323_0.txt\n",
            "...Reading file :  /content/drive/MyDrive/ML/email-filtering/imdb_unsup/327_0.txt\n",
            "...Reading file :  /content/drive/MyDrive/ML/email-filtering/imdb_unsup/505_0.txt\n",
            "...Reading file :  /content/drive/MyDrive/ML/email-filtering/imdb_unsup/260_0.txt\n",
            "...Reading file :  /content/drive/MyDrive/ML/email-filtering/imdb_unsup/293_0.txt\n",
            "...Reading file :  /content/drive/MyDrive/ML/email-filtering/imdb_unsup/474_0.txt\n",
            "...Reading file :  /content/drive/MyDrive/ML/email-filtering/imdb_unsup/75_0.txt\n",
            "...Reading file :  /content/drive/MyDrive/ML/email-filtering/imdb_unsup/452_0.txt\n",
            "...Reading file :  /content/drive/MyDrive/ML/email-filtering/imdb_unsup/88_0.txt\n",
            "...Reading file :  /content/drive/MyDrive/ML/email-filtering/imdb_unsup/30_0.txt\n",
            "...Reading file :  /content/drive/MyDrive/ML/email-filtering/imdb_unsup/557_0.txt\n",
            "...Reading file :  /content/drive/MyDrive/ML/email-filtering/imdb_unsup/366_0.txt\n",
            "...Reading file :  /content/drive/MyDrive/ML/email-filtering/imdb_unsup/52_0.txt\n",
            "...Reading file :  /content/drive/MyDrive/ML/email-filtering/imdb_unsup/590_0.txt\n",
            "...Reading file :  /content/drive/MyDrive/ML/email-filtering/imdb_unsup/63_0.txt\n",
            "...Reading file :  /content/drive/MyDrive/ML/email-filtering/imdb_unsup/74_0.txt\n",
            "...Reading file :  /content/drive/MyDrive/ML/email-filtering/imdb_unsup/394_0.txt\n",
            "...Reading file :  /content/drive/MyDrive/ML/email-filtering/imdb_unsup/338_0.txt\n",
            "...Reading file :  /content/drive/MyDrive/ML/email-filtering/imdb_unsup/582_0.txt\n",
            "...Reading file :  /content/drive/MyDrive/ML/email-filtering/imdb_unsup/315_0.txt\n",
            "...Reading file :  /content/drive/MyDrive/ML/email-filtering/imdb_unsup/230_0.txt\n",
            "...Reading file :  /content/drive/MyDrive/ML/email-filtering/imdb_unsup/89_0.txt\n",
            "...Reading file :  /content/drive/MyDrive/ML/email-filtering/imdb_unsup/192_0.txt\n",
            "...Reading file :  /content/drive/MyDrive/ML/email-filtering/imdb_unsup/133_0.txt\n",
            "...Reading file :  /content/drive/MyDrive/ML/email-filtering/imdb_unsup/97_0.txt\n",
            "...Reading file :  /content/drive/MyDrive/ML/email-filtering/imdb_unsup/246_0.txt\n",
            "...Reading file :  /content/drive/MyDrive/ML/email-filtering/imdb_unsup/504_0.txt\n",
            "...Reading file :  /content/drive/MyDrive/ML/email-filtering/imdb_unsup/124_0.txt\n",
            "...Reading file :  /content/drive/MyDrive/ML/email-filtering/imdb_unsup/4_0.txt\n",
            "...Reading file :  /content/drive/MyDrive/ML/email-filtering/imdb_unsup/265_0.txt\n",
            "...Reading file :  /content/drive/MyDrive/ML/email-filtering/imdb_unsup/299_0.txt\n",
            "...Reading file :  /content/drive/MyDrive/ML/email-filtering/imdb_unsup/169_0.txt\n",
            "...Reading file :  /content/drive/MyDrive/ML/email-filtering/imdb_unsup/271_0.txt\n",
            "...Reading file :  /content/drive/MyDrive/ML/email-filtering/imdb_unsup/29_0.txt\n",
            "...Reading file :  /content/drive/MyDrive/ML/email-filtering/imdb_unsup/226_0.txt\n",
            "...Reading file :  /content/drive/MyDrive/ML/email-filtering/imdb_unsup/421_0.txt\n",
            "...Reading file :  /content/drive/MyDrive/ML/email-filtering/imdb_unsup/398_0.txt\n",
            "...Reading file :  /content/drive/MyDrive/ML/email-filtering/imdb_unsup/583_0.txt\n",
            "...Reading file :  /content/drive/MyDrive/ML/email-filtering/imdb_unsup/278_0.txt\n",
            "...Reading file :  /content/drive/MyDrive/ML/email-filtering/imdb_unsup/180_0.txt\n",
            "...Reading file :  /content/drive/MyDrive/ML/email-filtering/imdb_unsup/301_0.txt\n",
            "...Reading file :  /content/drive/MyDrive/ML/email-filtering/imdb_unsup/285_0.txt\n",
            "...Reading file :  /content/drive/MyDrive/ML/email-filtering/imdb_unsup/5_0.txt\n",
            "...Reading file :  /content/drive/MyDrive/ML/email-filtering/imdb_unsup/324_0.txt\n",
            "...Reading file :  /content/drive/MyDrive/ML/email-filtering/imdb_unsup/254_0.txt\n",
            "...Reading file :  /content/drive/MyDrive/ML/email-filtering/imdb_unsup/304_0.txt\n",
            "...Reading file :  /content/drive/MyDrive/ML/email-filtering/imdb_unsup/114_0.txt\n",
            "...Reading file :  /content/drive/MyDrive/ML/email-filtering/imdb_unsup/450_0.txt\n",
            "...Reading file :  /content/drive/MyDrive/ML/email-filtering/imdb_unsup/416_0.txt\n",
            "...Reading file :  /content/drive/MyDrive/ML/email-filtering/imdb_unsup/247_0.txt\n",
            "...Reading file :  /content/drive/MyDrive/ML/email-filtering/imdb_unsup/400_0.txt\n",
            "...Reading file :  /content/drive/MyDrive/ML/email-filtering/imdb_unsup/223_0.txt\n",
            "...Reading file :  /content/drive/MyDrive/ML/email-filtering/imdb_unsup/494_0.txt\n",
            "...Reading file :  /content/drive/MyDrive/ML/email-filtering/imdb_unsup/480_0.txt\n",
            "...Reading file :  /content/drive/MyDrive/ML/email-filtering/imdb_unsup/368_0.txt\n",
            "...Reading file :  /content/drive/MyDrive/ML/email-filtering/imdb_unsup/589_0.txt\n",
            "...Reading file :  /content/drive/MyDrive/ML/email-filtering/imdb_unsup/340_0.txt\n",
            "...Reading file :  /content/drive/MyDrive/ML/email-filtering/imdb_unsup/326_0.txt\n",
            "...Reading file :  /content/drive/MyDrive/ML/email-filtering/imdb_unsup/79_0.txt\n",
            "...Reading file :  /content/drive/MyDrive/ML/email-filtering/imdb_unsup/376_0.txt\n",
            "...Reading file :  /content/drive/MyDrive/ML/email-filtering/imdb_unsup/280_0.txt\n",
            "...Reading file :  /content/drive/MyDrive/ML/email-filtering/imdb_unsup/12_0.txt\n",
            "...Reading file :  /content/drive/MyDrive/ML/email-filtering/imdb_unsup/488_0.txt\n",
            "...Reading file :  /content/drive/MyDrive/ML/email-filtering/imdb_unsup/56_0.txt\n",
            "...Reading file :  /content/drive/MyDrive/ML/email-filtering/imdb_unsup/516_0.txt\n",
            "...Reading file :  /content/drive/MyDrive/ML/email-filtering/imdb_unsup/388_0.txt\n",
            "...Reading file :  /content/drive/MyDrive/ML/email-filtering/imdb_unsup/107_0.txt\n",
            "...Reading file :  /content/drive/MyDrive/ML/email-filtering/imdb_unsup/498_0.txt\n",
            "...Reading file :  /content/drive/MyDrive/ML/email-filtering/imdb_unsup/220_0.txt\n",
            "...Reading file :  /content/drive/MyDrive/ML/email-filtering/imdb_unsup/440_0.txt\n",
            "...Reading file :  /content/drive/MyDrive/ML/email-filtering/imdb_unsup/126_0.txt\n",
            "...Reading file :  /content/drive/MyDrive/ML/email-filtering/imdb_unsup/24_0.txt\n",
            "...Reading file :  /content/drive/MyDrive/ML/email-filtering/imdb_unsup/160_0.txt\n",
            "...Reading file :  /content/drive/MyDrive/ML/email-filtering/imdb_unsup/359_0.txt\n",
            "...Reading file :  /content/drive/MyDrive/ML/email-filtering/imdb_unsup/489_0.txt\n",
            "...Reading file :  /content/drive/MyDrive/ML/email-filtering/imdb_unsup/335_0.txt\n",
            "...Reading file :  /content/drive/MyDrive/ML/email-filtering/imdb_unsup/19_0.txt\n",
            "...Reading file :  /content/drive/MyDrive/ML/email-filtering/imdb_unsup/59_0.txt\n",
            "...Reading file :  /content/drive/MyDrive/ML/email-filtering/imdb_unsup/142_0.txt\n",
            "...Reading file :  /content/drive/MyDrive/ML/email-filtering/imdb_unsup/287_0.txt\n",
            "...Reading file :  /content/drive/MyDrive/ML/email-filtering/imdb_unsup/519_0.txt\n",
            "...Reading file :  /content/drive/MyDrive/ML/email-filtering/imdb_unsup/495_0.txt\n",
            "...Reading file :  /content/drive/MyDrive/ML/email-filtering/imdb_unsup/536_0.txt\n",
            "...Reading file :  /content/drive/MyDrive/ML/email-filtering/imdb_unsup/575_0.txt\n",
            "...Reading file :  /content/drive/MyDrive/ML/email-filtering/imdb_unsup/209_0.txt\n",
            "...Reading file :  /content/drive/MyDrive/ML/email-filtering/imdb_unsup/283_0.txt\n",
            "...Reading file :  /content/drive/MyDrive/ML/email-filtering/imdb_unsup/434_0.txt\n",
            "...Reading file :  /content/drive/MyDrive/ML/email-filtering/imdb_unsup/153_0.txt\n",
            "...Reading file :  /content/drive/MyDrive/ML/email-filtering/imdb_unsup/559_0.txt\n",
            "...Reading file :  /content/drive/MyDrive/ML/email-filtering/imdb_unsup/294_0.txt\n",
            "...Reading file :  /content/drive/MyDrive/ML/email-filtering/imdb_unsup/358_0.txt\n",
            "...Reading file :  /content/drive/MyDrive/ML/email-filtering/imdb_unsup/156_0.txt\n",
            "...Reading file :  /content/drive/MyDrive/ML/email-filtering/imdb_unsup/194_0.txt\n",
            "...Reading file :  /content/drive/MyDrive/ML/email-filtering/imdb_unsup/542_0.txt\n",
            "...Reading file :  /content/drive/MyDrive/ML/email-filtering/imdb_unsup/544_0.txt\n",
            "...Reading file :  /content/drive/MyDrive/ML/email-filtering/imdb_unsup/412_0.txt\n",
            "...Reading file :  /content/drive/MyDrive/ML/email-filtering/imdb_unsup/67_0.txt\n",
            "...Reading file :  /content/drive/MyDrive/ML/email-filtering/imdb_unsup/179_0.txt\n",
            "...Reading file :  /content/drive/MyDrive/ML/email-filtering/imdb_unsup/405_0.txt\n",
            "...Reading file :  /content/drive/MyDrive/ML/email-filtering/imdb_unsup/46_0.txt\n",
            "...Reading file :  /content/drive/MyDrive/ML/email-filtering/imdb_unsup/367_0.txt\n",
            "...Reading file :  /content/drive/MyDrive/ML/email-filtering/imdb_unsup/182_0.txt\n",
            "...Reading file :  /content/drive/MyDrive/ML/email-filtering/imdb_unsup/149_0.txt\n",
            "...Reading file :  /content/drive/MyDrive/ML/email-filtering/imdb_unsup/252_0.txt\n",
            "...Reading file :  /content/drive/MyDrive/ML/email-filtering/imdb_unsup/353_0.txt\n",
            "...Reading file :  /content/drive/MyDrive/ML/email-filtering/imdb_unsup/413_0.txt\n",
            "...Reading file :  /content/drive/MyDrive/ML/email-filtering/imdb_unsup/377_0.txt\n",
            "...Reading file :  /content/drive/MyDrive/ML/email-filtering/imdb_unsup/509_0.txt\n",
            "...Reading file :  /content/drive/MyDrive/ML/email-filtering/imdb_unsup/64_0.txt\n",
            "...Reading file :  /content/drive/MyDrive/ML/email-filtering/imdb_unsup/273_0.txt\n",
            "...Reading file :  /content/drive/MyDrive/ML/email-filtering/imdb_unsup/408_0.txt\n",
            "...Reading file :  /content/drive/MyDrive/ML/email-filtering/imdb_unsup/118_0.txt\n",
            "...Reading file :  /content/drive/MyDrive/ML/email-filtering/imdb_unsup/185_0.txt\n",
            "...Reading file :  /content/drive/MyDrive/ML/email-filtering/imdb_unsup/181_0.txt\n",
            "...Reading file :  /content/drive/MyDrive/ML/email-filtering/imdb_unsup/295_0.txt\n",
            "...Reading file :  /content/drive/MyDrive/ML/email-filtering/imdb_unsup/233_0.txt\n",
            "...Reading file :  /content/drive/MyDrive/ML/email-filtering/imdb_unsup/128_0.txt\n",
            "...Reading file :  /content/drive/MyDrive/ML/email-filtering/imdb_unsup/510_0.txt\n",
            "...Reading file :  /content/drive/MyDrive/ML/email-filtering/imdb_unsup/588_0.txt\n",
            "...Reading file :  /content/drive/MyDrive/ML/email-filtering/imdb_unsup/164_0.txt\n",
            "...Reading file :  /content/drive/MyDrive/ML/email-filtering/imdb_unsup/314_0.txt\n",
            "...Reading file :  /content/drive/MyDrive/ML/email-filtering/imdb_unsup/520_0.txt\n",
            "...Reading file :  /content/drive/MyDrive/ML/email-filtering/imdb_unsup/190_0.txt\n",
            "...Reading file :  /content/drive/MyDrive/ML/email-filtering/imdb_unsup/431_0.txt\n",
            "...Reading file :  /content/drive/MyDrive/ML/email-filtering/imdb_unsup/325_0.txt\n",
            "...Reading file :  /content/drive/MyDrive/ML/email-filtering/imdb_unsup/138_0.txt\n",
            "...Reading file :  /content/drive/MyDrive/ML/email-filtering/imdb_unsup/229_0.txt\n",
            "...Reading file :  /content/drive/MyDrive/ML/email-filtering/imdb_unsup/387_0.txt\n",
            "...Reading file :  /content/drive/MyDrive/ML/email-filtering/imdb_unsup/441_0.txt\n",
            "...Reading file :  /content/drive/MyDrive/ML/email-filtering/imdb_unsup/279_0.txt\n",
            "...Reading file :  /content/drive/MyDrive/ML/email-filtering/imdb_unsup/83_0.txt\n",
            "...Reading file :  /content/drive/MyDrive/ML/email-filtering/imdb_unsup/515_0.txt\n",
            "...Reading file :  /content/drive/MyDrive/ML/email-filtering/imdb_unsup/242_0.txt\n",
            "...Reading file :  /content/drive/MyDrive/ML/email-filtering/imdb_unsup/587_0.txt\n",
            "...Reading file :  /content/drive/MyDrive/ML/email-filtering/imdb_unsup/186_0.txt\n",
            "...Reading file :  /content/drive/MyDrive/ML/email-filtering/imdb_unsup/537_0.txt\n",
            "...Reading file :  /content/drive/MyDrive/ML/email-filtering/imdb_unsup/228_0.txt\n",
            "...Reading file :  /content/drive/MyDrive/ML/email-filtering/imdb_unsup/26_0.txt\n",
            "...Reading file :  /content/drive/MyDrive/ML/email-filtering/imdb_unsup/231_0.txt\n",
            "...Reading file :  /content/drive/MyDrive/ML/email-filtering/imdb_unsup/512_0.txt\n",
            "...Reading file :  /content/drive/MyDrive/ML/email-filtering/imdb_unsup/560_0.txt\n",
            "...Reading file :  /content/drive/MyDrive/ML/email-filtering/imdb_unsup/470_0.txt\n",
            "...Reading file :  /content/drive/MyDrive/ML/email-filtering/imdb_unsup/383_0.txt\n",
            "...Reading file :  /content/drive/MyDrive/ML/email-filtering/imdb_unsup/364_0.txt\n",
            "...Reading file :  /content/drive/MyDrive/ML/email-filtering/imdb_unsup/238_0.txt\n",
            "...Reading file :  /content/drive/MyDrive/ML/email-filtering/imdb_unsup/137_0.txt\n",
            "...Reading file :  /content/drive/MyDrive/ML/email-filtering/imdb_unsup/321_0.txt\n",
            "...Reading file :  /content/drive/MyDrive/ML/email-filtering/imdb_unsup/531_0.txt\n",
            "...Reading file :  /content/drive/MyDrive/ML/email-filtering/imdb_unsup/459_0.txt\n",
            "...Reading file :  /content/drive/MyDrive/ML/email-filtering/imdb_unsup/460_0.txt\n",
            "...Reading file :  /content/drive/MyDrive/ML/email-filtering/imdb_unsup/258_0.txt\n",
            "...Reading file :  /content/drive/MyDrive/ML/email-filtering/imdb_unsup/193_0.txt\n",
            "...Reading file :  /content/drive/MyDrive/ML/email-filtering/imdb_unsup/85_0.txt\n",
            "...Reading file :  /content/drive/MyDrive/ML/email-filtering/imdb_unsup/158_0.txt\n",
            "...Reading file :  /content/drive/MyDrive/ML/email-filtering/imdb_unsup/330_0.txt\n",
            "...Reading file :  /content/drive/MyDrive/ML/email-filtering/imdb_unsup/87_0.txt\n",
            "...Reading file :  /content/drive/MyDrive/ML/email-filtering/imdb_unsup/372_0.txt\n",
            "...Reading file :  /content/drive/MyDrive/ML/email-filtering/imdb_unsup/500_0.txt\n",
            "...Reading file :  /content/drive/MyDrive/ML/email-filtering/imdb_unsup/69_0.txt\n",
            "...Reading file :  /content/drive/MyDrive/ML/email-filtering/imdb_unsup/31_0.txt\n",
            "...Reading file :  /content/drive/MyDrive/ML/email-filtering/imdb_unsup/447_0.txt\n",
            "...Reading file :  /content/drive/MyDrive/ML/email-filtering/imdb_unsup/317_0.txt\n",
            "...Reading file :  /content/drive/MyDrive/ML/email-filtering/imdb_unsup/487_0.txt\n",
            "...Reading file :  /content/drive/MyDrive/ML/email-filtering/imdb_unsup/215_0.txt\n",
            "...Reading file :  /content/drive/MyDrive/ML/email-filtering/imdb_unsup/429_0.txt\n",
            "...Reading file :  /content/drive/MyDrive/ML/email-filtering/imdb_unsup/424_0.txt\n",
            "...Reading file :  /content/drive/MyDrive/ML/email-filtering/imdb_unsup/0_0.txt\n",
            "...Reading file :  /content/drive/MyDrive/ML/email-filtering/imdb_unsup/201_0.txt\n",
            "...Reading file :  /content/drive/MyDrive/ML/email-filtering/imdb_unsup/282_0.txt\n",
            "...Reading file :  /content/drive/MyDrive/ML/email-filtering/imdb_unsup/99_0.txt\n",
            "...Reading file :  /content/drive/MyDrive/ML/email-filtering/imdb_unsup/125_0.txt\n",
            "...Reading file :  /content/drive/MyDrive/ML/email-filtering/imdb_unsup/106_0.txt\n",
            "...Reading file :  /content/drive/MyDrive/ML/email-filtering/imdb_unsup/462_0.txt\n",
            "...Reading file :  /content/drive/MyDrive/ML/email-filtering/imdb_unsup/93_0.txt\n",
            "...Reading file :  /content/drive/MyDrive/ML/email-filtering/imdb_unsup/240_0.txt\n",
            "...Reading file :  /content/drive/MyDrive/ML/email-filtering/imdb_unsup/395_0.txt\n",
            "...Reading file :  /content/drive/MyDrive/ML/email-filtering/imdb_unsup/266_0.txt\n",
            "...Reading file :  /content/drive/MyDrive/ML/email-filtering/imdb_unsup/556_0.txt\n",
            "...Reading file :  /content/drive/MyDrive/ML/email-filtering/imdb_unsup/120_0.txt\n",
            "...Reading file :  /content/drive/MyDrive/ML/email-filtering/imdb_unsup/264_0.txt\n",
            "...Reading file :  /content/drive/MyDrive/ML/email-filtering/imdb_unsup/433_0.txt\n",
            "...Reading file :  /content/drive/MyDrive/ML/email-filtering/imdb_unsup/584_0.txt\n",
            "...Reading file :  /content/drive/MyDrive/ML/email-filtering/imdb_unsup/385_0.txt\n",
            "...Reading file :  /content/drive/MyDrive/ML/email-filtering/imdb_unsup/152_0.txt\n",
            "...Reading file :  /content/drive/MyDrive/ML/email-filtering/imdb_unsup/540_0.txt\n",
            "...Reading file :  /content/drive/MyDrive/ML/email-filtering/imdb_unsup/484_0.txt\n",
            "...Reading file :  /content/drive/MyDrive/ML/email-filtering/imdb_unsup/334_0.txt\n",
            "...Reading file :  /content/drive/MyDrive/ML/email-filtering/imdb_unsup/482_0.txt\n",
            "...Reading file :  /content/drive/MyDrive/ML/email-filtering/imdb_unsup/117_0.txt\n",
            "...Reading file :  /content/drive/MyDrive/ML/email-filtering/imdb_unsup/570_0.txt\n",
            "...Reading file :  /content/drive/MyDrive/ML/email-filtering/imdb_unsup/417_0.txt\n",
            "...Reading file :  /content/drive/MyDrive/ML/email-filtering/imdb_unsup/311_0.txt\n",
            "...Reading file :  /content/drive/MyDrive/ML/email-filtering/imdb_unsup/380_0.txt\n",
            "...Reading file :  /content/drive/MyDrive/ML/email-filtering/imdb_unsup/548_0.txt\n",
            "...Reading file :  /content/drive/MyDrive/ML/email-filtering/imdb_unsup/501_0.txt\n",
            "...Reading file :  /content/drive/MyDrive/ML/email-filtering/imdb_unsup/28_0.txt\n",
            "...Reading file :  /content/drive/MyDrive/ML/email-filtering/imdb_unsup/213_0.txt\n",
            "...Reading file :  /content/drive/MyDrive/ML/email-filtering/imdb_unsup/567_0.txt\n",
            "...Reading file :  /content/drive/MyDrive/ML/email-filtering/imdb_unsup/109_0.txt\n",
            "...Reading file :  /content/drive/MyDrive/ML/email-filtering/imdb_unsup/198_0.txt\n",
            "...Reading file :  /content/drive/MyDrive/ML/email-filtering/imdb_unsup/250_0.txt\n",
            "...Reading file :  /content/drive/MyDrive/ML/email-filtering/imdb_unsup/401_0.txt\n",
            "...Reading file :  /content/drive/MyDrive/ML/email-filtering/imdb_unsup/449_0.txt\n",
            "...Reading file :  /content/drive/MyDrive/ML/email-filtering/imdb_unsup/464_0.txt\n",
            "...Reading file :  /content/drive/MyDrive/ML/email-filtering/imdb_unsup/274_0.txt\n",
            "...Reading file :  /content/drive/MyDrive/ML/email-filtering/imdb_unsup/130_0.txt\n",
            "...Reading file :  /content/drive/MyDrive/ML/email-filtering/imdb_unsup/411_0.txt\n",
            "...Reading file :  /content/drive/MyDrive/ML/email-filtering/imdb_unsup/390_0.txt\n",
            "...Reading file :  /content/drive/MyDrive/ML/email-filtering/imdb_unsup/98_0.txt\n",
            "...Reading file :  /content/drive/MyDrive/ML/email-filtering/imdb_unsup/446_0.txt\n",
            "...Reading file :  /content/drive/MyDrive/ML/email-filtering/imdb_unsup/445_0.txt\n",
            "...Reading file :  /content/drive/MyDrive/ML/email-filtering/imdb_unsup/528_0.txt\n",
            "...Reading file :  /content/drive/MyDrive/ML/email-filtering/imdb_unsup/148_0.txt\n",
            "...Reading file :  /content/drive/MyDrive/ML/email-filtering/imdb_unsup/135_0.txt\n",
            "...Reading file :  /content/drive/MyDrive/ML/email-filtering/imdb_unsup/270_0.txt\n",
            "...Reading file :  /content/drive/MyDrive/ML/email-filtering/imdb_unsup/122_0.txt\n",
            "...Reading file :  /content/drive/MyDrive/ML/email-filtering/imdb_unsup/166_0.txt\n",
            "...Reading file :  /content/drive/MyDrive/ML/email-filtering/imdb_unsup/339_0.txt\n",
            "...Reading file :  /content/drive/MyDrive/ML/email-filtering/imdb_unsup/306_0.txt\n",
            "...Reading file :  /content/drive/MyDrive/ML/email-filtering/imdb_unsup/3_0.txt\n",
            "...Reading file :  /content/drive/MyDrive/ML/email-filtering/imdb_unsup/150_0.txt\n",
            "...Reading file :  /content/drive/MyDrive/ML/email-filtering/imdb_unsup/95_0.txt\n",
            "...Reading file :  /content/drive/MyDrive/ML/email-filtering/imdb_unsup/178_0.txt\n",
            "...Reading file :  /content/drive/MyDrive/ML/email-filtering/imdb_unsup/479_0.txt\n",
            "...Reading file :  /content/drive/MyDrive/ML/email-filtering/imdb_unsup/558_0.txt\n",
            "...Reading file :  /content/drive/MyDrive/ML/email-filtering/imdb_unsup/451_0.txt\n",
            "...Reading file :  /content/drive/MyDrive/ML/email-filtering/imdb_unsup/534_0.txt\n",
            "...Reading file :  /content/drive/MyDrive/ML/email-filtering/imdb_unsup/302_0.txt\n",
            "...Reading file :  /content/drive/MyDrive/ML/email-filtering/imdb_unsup/517_0.txt\n",
            "...Reading file :  /content/drive/MyDrive/ML/email-filtering/imdb_unsup/296_0.txt\n",
            "...Reading file :  /content/drive/MyDrive/ML/email-filtering/imdb_unsup/333_0.txt\n",
            "...Reading file :  /content/drive/MyDrive/ML/email-filtering/imdb_unsup/297_0.txt\n",
            "...Reading file :  /content/drive/MyDrive/ML/email-filtering/imdb_unsup/53_0.txt\n",
            "...Reading file :  /content/drive/MyDrive/ML/email-filtering/imdb_unsup/119_0.txt\n",
            "...Reading file :  /content/drive/MyDrive/ML/email-filtering/imdb_unsup/225_0.txt\n",
            "...Reading file :  /content/drive/MyDrive/ML/email-filtering/imdb_unsup/73_0.txt\n",
            "...Reading file :  /content/drive/MyDrive/ML/email-filtering/imdb_unsup/58_0.txt\n",
            "...Reading file :  /content/drive/MyDrive/ML/email-filtering/imdb_unsup/200_0.txt\n",
            "...Reading file :  /content/drive/MyDrive/ML/email-filtering/imdb_unsup/132_0.txt\n",
            "...Reading file :  /content/drive/MyDrive/ML/email-filtering/imdb_unsup/481_0.txt\n",
            "...Reading file :  /content/drive/MyDrive/ML/email-filtering/imdb_unsup/184_0.txt\n",
            "...Reading file :  /content/drive/MyDrive/ML/email-filtering/imdb_unsup/573_0.txt\n",
            "...Reading file :  /content/drive/MyDrive/ML/email-filtering/imdb_unsup/123_0.txt\n",
            "...Reading file :  /content/drive/MyDrive/ML/email-filtering/imdb_unsup/546_0.txt\n",
            "...Reading file :  /content/drive/MyDrive/ML/email-filtering/imdb_unsup/292_0.txt\n",
            "...Reading file :  /content/drive/MyDrive/ML/email-filtering/imdb_unsup/241_0.txt\n",
            "...Reading file :  /content/drive/MyDrive/ML/email-filtering/imdb_unsup/16_0.txt\n",
            "...Reading file :  /content/drive/MyDrive/ML/email-filtering/imdb_unsup/581_0.txt\n",
            "...Reading file :  /content/drive/MyDrive/ML/email-filtering/imdb_unsup/40_0.txt\n",
            "...Reading file :  /content/drive/MyDrive/ML/email-filtering/imdb_unsup/234_0.txt\n",
            "...Reading file :  /content/drive/MyDrive/ML/email-filtering/imdb_unsup/456_0.txt\n",
            "...Reading file :  /content/drive/MyDrive/ML/email-filtering/imdb_unsup/593_0.txt\n",
            "...Reading file :  /content/drive/MyDrive/ML/email-filtering/imdb_unsup/341_0.txt\n",
            "...Reading file :  /content/drive/MyDrive/ML/email-filtering/imdb_unsup/466_0.txt\n",
            "...Reading file :  /content/drive/MyDrive/ML/email-filtering/imdb_unsup/94_0.txt\n",
            "...Reading file :  /content/drive/MyDrive/ML/email-filtering/imdb_unsup/37_0.txt\n",
            "...Reading file :  /content/drive/MyDrive/ML/email-filtering/imdb_unsup/374_0.txt\n",
            "...Reading file :  /content/drive/MyDrive/ML/email-filtering/imdb_unsup/473_0.txt\n",
            "...Reading file :  /content/drive/MyDrive/ML/email-filtering/imdb_unsup/347_0.txt\n",
            "...Reading file :  /content/drive/MyDrive/ML/email-filtering/imdb_unsup/202_0.txt\n",
            "...Reading file :  /content/drive/MyDrive/ML/email-filtering/imdb_unsup/343_0.txt\n",
            "...Reading file :  /content/drive/MyDrive/ML/email-filtering/imdb_unsup/696_0.txt\n",
            "...Reading file :  /content/drive/MyDrive/ML/email-filtering/imdb_unsup/746_0.txt\n",
            "...Reading file :  /content/drive/MyDrive/ML/email-filtering/imdb_unsup/750_0.txt\n",
            "...Reading file :  /content/drive/MyDrive/ML/email-filtering/imdb_unsup/619_0.txt\n",
            "...Reading file :  /content/drive/MyDrive/ML/email-filtering/imdb_unsup/942_0.txt\n",
            "...Reading file :  /content/drive/MyDrive/ML/email-filtering/imdb_unsup/965_0.txt\n",
            "...Reading file :  /content/drive/MyDrive/ML/email-filtering/imdb_unsup/715_0.txt\n",
            "...Reading file :  /content/drive/MyDrive/ML/email-filtering/imdb_unsup/761_0.txt\n",
            "...Reading file :  /content/drive/MyDrive/ML/email-filtering/imdb_unsup/899_0.txt\n",
            "...Reading file :  /content/drive/MyDrive/ML/email-filtering/imdb_unsup/843_0.txt\n",
            "...Reading file :  /content/drive/MyDrive/ML/email-filtering/imdb_unsup/657_0.txt\n",
            "...Reading file :  /content/drive/MyDrive/ML/email-filtering/imdb_unsup/820_0.txt\n",
            "...Reading file :  /content/drive/MyDrive/ML/email-filtering/imdb_unsup/987_0.txt\n",
            "...Reading file :  /content/drive/MyDrive/ML/email-filtering/imdb_unsup/632_0.txt\n",
            "...Reading file :  /content/drive/MyDrive/ML/email-filtering/imdb_unsup/790_0.txt\n",
            "...Reading file :  /content/drive/MyDrive/ML/email-filtering/imdb_unsup/823_0.txt\n",
            "...Reading file :  /content/drive/MyDrive/ML/email-filtering/imdb_unsup/719_0.txt\n",
            "...Reading file :  /content/drive/MyDrive/ML/email-filtering/imdb_unsup/868_0.txt\n",
            "...Reading file :  /content/drive/MyDrive/ML/email-filtering/imdb_unsup/883_0.txt\n",
            "...Reading file :  /content/drive/MyDrive/ML/email-filtering/imdb_unsup/862_0.txt\n",
            "...Reading file :  /content/drive/MyDrive/ML/email-filtering/imdb_unsup/599_0.txt\n",
            "...Reading file :  /content/drive/MyDrive/ML/email-filtering/imdb_unsup/610_0.txt\n",
            "...Reading file :  /content/drive/MyDrive/ML/email-filtering/imdb_unsup/1000_0.txt\n",
            "...Reading file :  /content/drive/MyDrive/ML/email-filtering/imdb_unsup/930_0.txt\n",
            "...Reading file :  /content/drive/MyDrive/ML/email-filtering/imdb_unsup/998_0.txt\n",
            "...Reading file :  /content/drive/MyDrive/ML/email-filtering/imdb_unsup/688_0.txt\n",
            "...Reading file :  /content/drive/MyDrive/ML/email-filtering/imdb_unsup/855_0.txt\n",
            "...Reading file :  /content/drive/MyDrive/ML/email-filtering/imdb_unsup/616_0.txt\n",
            "...Reading file :  /content/drive/MyDrive/ML/email-filtering/imdb_unsup/722_0.txt\n",
            "...Reading file :  /content/drive/MyDrive/ML/email-filtering/imdb_unsup/805_0.txt\n",
            "...Reading file :  /content/drive/MyDrive/ML/email-filtering/imdb_unsup/613_0.txt\n",
            "...Reading file :  /content/drive/MyDrive/ML/email-filtering/imdb_unsup/984_0.txt\n",
            "...Reading file :  /content/drive/MyDrive/ML/email-filtering/imdb_unsup/712_0.txt\n",
            "...Reading file :  /content/drive/MyDrive/ML/email-filtering/imdb_unsup/752_0.txt\n",
            "...Reading file :  /content/drive/MyDrive/ML/email-filtering/imdb_unsup/832_0.txt\n",
            "...Reading file :  /content/drive/MyDrive/ML/email-filtering/imdb_unsup/857_0.txt\n",
            "...Reading file :  /content/drive/MyDrive/ML/email-filtering/imdb_unsup/703_0.txt\n",
            "...Reading file :  /content/drive/MyDrive/ML/email-filtering/imdb_unsup/802_0.txt\n",
            "...Reading file :  /content/drive/MyDrive/ML/email-filtering/imdb_unsup/723_0.txt\n",
            "...Reading file :  /content/drive/MyDrive/ML/email-filtering/imdb_unsup/995_0.txt\n",
            "...Reading file :  /content/drive/MyDrive/ML/email-filtering/imdb_unsup/608_0.txt\n",
            "...Reading file :  /content/drive/MyDrive/ML/email-filtering/imdb_unsup/729_0.txt\n",
            "...Reading file :  /content/drive/MyDrive/ML/email-filtering/imdb_unsup/893_0.txt\n",
            "...Reading file :  /content/drive/MyDrive/ML/email-filtering/imdb_unsup/822_0.txt\n",
            "...Reading file :  /content/drive/MyDrive/ML/email-filtering/imdb_unsup/827_0.txt\n",
            "...Reading file :  /content/drive/MyDrive/ML/email-filtering/imdb_unsup/772_0.txt\n",
            "...Reading file :  /content/drive/MyDrive/ML/email-filtering/imdb_unsup/692_0.txt\n",
            "...Reading file :  /content/drive/MyDrive/ML/email-filtering/imdb_unsup/640_0.txt\n",
            "...Reading file :  /content/drive/MyDrive/ML/email-filtering/imdb_unsup/787_0.txt\n",
            "...Reading file :  /content/drive/MyDrive/ML/email-filtering/imdb_unsup/689_0.txt\n",
            "...Reading file :  /content/drive/MyDrive/ML/email-filtering/imdb_unsup/953_0.txt\n",
            "...Reading file :  /content/drive/MyDrive/ML/email-filtering/imdb_unsup/876_0.txt\n",
            "...Reading file :  /content/drive/MyDrive/ML/email-filtering/imdb_unsup/596_0.txt\n",
            "...Reading file :  /content/drive/MyDrive/ML/email-filtering/imdb_unsup/641_0.txt\n",
            "...Reading file :  /content/drive/MyDrive/ML/email-filtering/imdb_unsup/788_0.txt\n",
            "...Reading file :  /content/drive/MyDrive/ML/email-filtering/imdb_unsup/933_0.txt\n",
            "...Reading file :  /content/drive/MyDrive/ML/email-filtering/imdb_unsup/844_0.txt\n",
            "...Reading file :  /content/drive/MyDrive/ML/email-filtering/imdb_unsup/745_0.txt\n",
            "...Reading file :  /content/drive/MyDrive/ML/email-filtering/imdb_unsup/914_0.txt\n",
            "...Reading file :  /content/drive/MyDrive/ML/email-filtering/imdb_unsup/872_0.txt\n",
            "...Reading file :  /content/drive/MyDrive/ML/email-filtering/imdb_unsup/853_0.txt\n",
            "...Reading file :  /content/drive/MyDrive/ML/email-filtering/imdb_unsup/917_0.txt\n",
            "...Reading file :  /content/drive/MyDrive/ML/email-filtering/imdb_unsup/730_0.txt\n",
            "...Reading file :  /content/drive/MyDrive/ML/email-filtering/imdb_unsup/630_0.txt\n",
            "...Reading file :  /content/drive/MyDrive/ML/email-filtering/imdb_unsup/937_0.txt\n",
            "...Reading file :  /content/drive/MyDrive/ML/email-filtering/imdb_unsup/859_0.txt\n",
            "...Reading file :  /content/drive/MyDrive/ML/email-filtering/imdb_unsup/955_0.txt\n",
            "...Reading file :  /content/drive/MyDrive/ML/email-filtering/imdb_unsup/655_0.txt\n",
            "...Reading file :  /content/drive/MyDrive/ML/email-filtering/imdb_unsup/683_0.txt\n",
            "...Reading file :  /content/drive/MyDrive/ML/email-filtering/imdb_unsup/627_0.txt\n",
            "...Reading file :  /content/drive/MyDrive/ML/email-filtering/imdb_unsup/737_0.txt\n",
            "...Reading file :  /content/drive/MyDrive/ML/email-filtering/imdb_unsup/633_0.txt\n",
            "...Reading file :  /content/drive/MyDrive/ML/email-filtering/imdb_unsup/999_0.txt\n",
            "...Reading file :  /content/drive/MyDrive/ML/email-filtering/imdb_unsup/605_0.txt\n",
            "...Reading file :  /content/drive/MyDrive/ML/email-filtering/imdb_unsup/918_0.txt\n",
            "...Reading file :  /content/drive/MyDrive/ML/email-filtering/imdb_unsup/956_0.txt\n",
            "...Reading file :  /content/drive/MyDrive/ML/email-filtering/imdb_unsup/900_0.txt\n",
            "...Reading file :  /content/drive/MyDrive/ML/email-filtering/imdb_unsup/732_0.txt\n",
            "...Reading file :  /content/drive/MyDrive/ML/email-filtering/imdb_unsup/708_0.txt\n",
            "...Reading file :  /content/drive/MyDrive/ML/email-filtering/imdb_unsup/792_0.txt\n",
            "...Reading file :  /content/drive/MyDrive/ML/email-filtering/imdb_unsup/910_0.txt\n",
            "...Reading file :  /content/drive/MyDrive/ML/email-filtering/imdb_unsup/702_0.txt\n",
            "...Reading file :  /content/drive/MyDrive/ML/email-filtering/imdb_unsup/912_0.txt\n",
            "...Reading file :  /content/drive/MyDrive/ML/email-filtering/imdb_unsup/819_0.txt\n",
            "...Reading file :  /content/drive/MyDrive/ML/email-filtering/imdb_unsup/779_0.txt\n",
            "...Reading file :  /content/drive/MyDrive/ML/email-filtering/imdb_unsup/663_0.txt\n",
            "...Reading file :  /content/drive/MyDrive/ML/email-filtering/imdb_unsup/693_0.txt\n",
            "...Reading file :  /content/drive/MyDrive/ML/email-filtering/imdb_unsup/915_0.txt\n",
            "...Reading file :  /content/drive/MyDrive/ML/email-filtering/imdb_unsup/694_0.txt\n",
            "...Reading file :  /content/drive/MyDrive/ML/email-filtering/imdb_unsup/691_0.txt\n",
            "...Reading file :  /content/drive/MyDrive/ML/email-filtering/imdb_unsup/849_0.txt\n",
            "...Reading file :  /content/drive/MyDrive/ML/email-filtering/imdb_unsup/718_0.txt\n",
            "...Reading file :  /content/drive/MyDrive/ML/email-filtering/imdb_unsup/600_0.txt\n",
            "...Reading file :  /content/drive/MyDrive/ML/email-filtering/imdb_unsup/635_0.txt\n",
            "...Reading file :  /content/drive/MyDrive/ML/email-filtering/imdb_unsup/854_0.txt\n",
            "...Reading file :  /content/drive/MyDrive/ML/email-filtering/imdb_unsup/796_0.txt\n",
            "...Reading file :  /content/drive/MyDrive/ML/email-filtering/imdb_unsup/617_0.txt\n",
            "...Reading file :  /content/drive/MyDrive/ML/email-filtering/imdb_unsup/807_0.txt\n",
            "...Reading file :  /content/drive/MyDrive/ML/email-filtering/imdb_unsup/728_0.txt\n",
            "...Reading file :  /content/drive/MyDrive/ML/email-filtering/imdb_unsup/976_0.txt\n",
            "...Reading file :  /content/drive/MyDrive/ML/email-filtering/imdb_unsup/866_0.txt\n",
            "...Reading file :  /content/drive/MyDrive/ML/email-filtering/imdb_unsup/721_0.txt\n",
            "...Reading file :  /content/drive/MyDrive/ML/email-filtering/imdb_unsup/774_0.txt\n",
            "...Reading file :  /content/drive/MyDrive/ML/email-filtering/imdb_unsup/804_0.txt\n",
            "...Reading file :  /content/drive/MyDrive/ML/email-filtering/imdb_unsup/653_0.txt\n",
            "...Reading file :  /content/drive/MyDrive/ML/email-filtering/imdb_unsup/865_0.txt\n",
            "...Reading file :  /content/drive/MyDrive/ML/email-filtering/imdb_unsup/716_0.txt\n",
            "...Reading file :  /content/drive/MyDrive/ML/email-filtering/imdb_unsup/735_0.txt\n",
            "...Reading file :  /content/drive/MyDrive/ML/email-filtering/imdb_unsup/969_0.txt\n",
            "...Reading file :  /content/drive/MyDrive/ML/email-filtering/imdb_unsup/773_0.txt\n",
            "...Reading file :  /content/drive/MyDrive/ML/email-filtering/imdb_unsup/660_0.txt\n",
            "...Reading file :  /content/drive/MyDrive/ML/email-filtering/imdb_unsup/968_0.txt\n",
            "...Reading file :  /content/drive/MyDrive/ML/email-filtering/imdb_unsup/809_0.txt\n",
            "...Reading file :  /content/drive/MyDrive/ML/email-filtering/imdb_unsup/905_0.txt\n",
            "...Reading file :  /content/drive/MyDrive/ML/email-filtering/imdb_unsup/931_0.txt\n",
            "...Reading file :  /content/drive/MyDrive/ML/email-filtering/imdb_unsup/922_0.txt\n",
            "...Reading file :  /content/drive/MyDrive/ML/email-filtering/imdb_unsup/801_0.txt\n",
            "...Reading file :  /content/drive/MyDrive/ML/email-filtering/imdb_unsup/867_0.txt\n",
            "...Reading file :  /content/drive/MyDrive/ML/email-filtering/imdb_unsup/847_0.txt\n",
            "...Reading file :  /content/drive/MyDrive/ML/email-filtering/imdb_unsup/748_0.txt\n",
            "...Reading file :  /content/drive/MyDrive/ML/email-filtering/imdb_unsup/991_0.txt\n",
            "...Reading file :  /content/drive/MyDrive/ML/email-filtering/imdb_unsup/936_0.txt\n",
            "...Reading file :  /content/drive/MyDrive/ML/email-filtering/imdb_unsup/817_0.txt\n",
            "...Reading file :  /content/drive/MyDrive/ML/email-filtering/imdb_unsup/913_0.txt\n",
            "...Reading file :  /content/drive/MyDrive/ML/email-filtering/imdb_unsup/947_0.txt\n",
            "...Reading file :  /content/drive/MyDrive/ML/email-filtering/imdb_unsup/967_0.txt\n",
            "...Reading file :  /content/drive/MyDrive/ML/email-filtering/imdb_unsup/753_0.txt\n",
            "...Reading file :  /content/drive/MyDrive/ML/email-filtering/imdb_unsup/891_0.txt\n",
            "...Reading file :  /content/drive/MyDrive/ML/email-filtering/imdb_unsup/741_0.txt\n",
            "...Reading file :  /content/drive/MyDrive/ML/email-filtering/imdb_unsup/789_0.txt\n",
            "...Reading file :  /content/drive/MyDrive/ML/email-filtering/imdb_unsup/948_0.txt\n",
            "...Reading file :  /content/drive/MyDrive/ML/email-filtering/imdb_unsup/739_0.txt\n",
            "...Reading file :  /content/drive/MyDrive/ML/email-filtering/imdb_unsup/720_0.txt\n",
            "...Reading file :  /content/drive/MyDrive/ML/email-filtering/imdb_unsup/880_0.txt\n",
            "...Reading file :  /content/drive/MyDrive/ML/email-filtering/imdb_unsup/798_0.txt\n",
            "...Reading file :  /content/drive/MyDrive/ML/email-filtering/imdb_unsup/629_0.txt\n",
            "...Reading file :  /content/drive/MyDrive/ML/email-filtering/imdb_unsup/895_0.txt\n",
            "...Reading file :  /content/drive/MyDrive/ML/email-filtering/imdb_unsup/674_0.txt\n",
            "...Reading file :  /content/drive/MyDrive/ML/email-filtering/imdb_unsup/697_0.txt\n",
            "...Reading file :  /content/drive/MyDrive/ML/email-filtering/imdb_unsup/742_0.txt\n",
            "...Reading file :  /content/drive/MyDrive/ML/email-filtering/imdb_unsup/602_0.txt\n",
            "...Reading file :  /content/drive/MyDrive/ML/email-filtering/imdb_unsup/903_0.txt\n",
            "...Reading file :  /content/drive/MyDrive/ML/email-filtering/imdb_unsup/656_0.txt\n",
            "...Reading file :  /content/drive/MyDrive/ML/email-filtering/imdb_unsup/994_0.txt\n",
            "...Reading file :  /content/drive/MyDrive/ML/email-filtering/imdb_unsup/768_0.txt\n",
            "...Reading file :  /content/drive/MyDrive/ML/email-filtering/imdb_unsup/887_0.txt\n",
            "...Reading file :  /content/drive/MyDrive/ML/email-filtering/imdb_unsup/695_0.txt\n",
            "...Reading file :  /content/drive/MyDrive/ML/email-filtering/imdb_unsup/776_0.txt\n",
            "...Reading file :  /content/drive/MyDrive/ML/email-filtering/imdb_unsup/878_0.txt\n",
            "...Reading file :  /content/drive/MyDrive/ML/email-filtering/imdb_unsup/906_0.txt\n",
            "...Reading file :  /content/drive/MyDrive/ML/email-filtering/imdb_unsup/649_0.txt\n",
            "...Reading file :  /content/drive/MyDrive/ML/email-filtering/imdb_unsup/943_0.txt\n",
            "...Reading file :  /content/drive/MyDrive/ML/email-filtering/imdb_unsup/758_0.txt\n",
            "...Reading file :  /content/drive/MyDrive/ML/email-filtering/imdb_unsup/950_0.txt\n",
            "...Reading file :  /content/drive/MyDrive/ML/email-filtering/imdb_unsup/916_0.txt\n",
            "...Reading file :  /content/drive/MyDrive/ML/email-filtering/imdb_unsup/652_0.txt\n",
            "...Reading file :  /content/drive/MyDrive/ML/email-filtering/imdb_unsup/634_0.txt\n",
            "...Reading file :  /content/drive/MyDrive/ML/email-filtering/imdb_unsup/997_0.txt\n",
            "...Reading file :  /content/drive/MyDrive/ML/email-filtering/imdb_unsup/751_0.txt\n",
            "...Reading file :  /content/drive/MyDrive/ML/email-filtering/imdb_unsup/897_0.txt\n",
            "...Reading file :  /content/drive/MyDrive/ML/email-filtering/imdb_unsup/650_0.txt\n",
            "...Reading file :  /content/drive/MyDrive/ML/email-filtering/imdb_unsup/667_0.txt\n",
            "...Reading file :  /content/drive/MyDrive/ML/email-filtering/imdb_unsup/833_0.txt\n",
            "...Reading file :  /content/drive/MyDrive/ML/email-filtering/imdb_unsup/724_0.txt\n",
            "...Reading file :  /content/drive/MyDrive/ML/email-filtering/imdb_unsup/908_0.txt\n",
            "...Reading file :  /content/drive/MyDrive/ML/email-filtering/imdb_unsup/738_0.txt\n",
            "...Reading file :  /content/drive/MyDrive/ML/email-filtering/imdb_unsup/970_0.txt\n",
            "...Reading file :  /content/drive/MyDrive/ML/email-filtering/imdb_unsup/686_0.txt\n",
            "...Reading file :  /content/drive/MyDrive/ML/email-filtering/imdb_unsup/831_0.txt\n",
            "...Reading file :  /content/drive/MyDrive/ML/email-filtering/imdb_unsup/710_0.txt\n",
            "...Reading file :  /content/drive/MyDrive/ML/email-filtering/imdb_unsup/877_0.txt\n",
            "...Reading file :  /content/drive/MyDrive/ML/email-filtering/imdb_unsup/964_0.txt\n",
            "...Reading file :  /content/drive/MyDrive/ML/email-filtering/imdb_unsup/923_0.txt\n",
            "...Reading file :  /content/drive/MyDrive/ML/email-filtering/imdb_unsup/983_0.txt\n",
            "...Reading file :  /content/drive/MyDrive/ML/email-filtering/imdb_unsup/749_0.txt\n",
            "...Reading file :  /content/drive/MyDrive/ML/email-filtering/imdb_unsup/767_0.txt\n",
            "...Reading file :  /content/drive/MyDrive/ML/email-filtering/imdb_unsup/979_0.txt\n",
            "...Reading file :  /content/drive/MyDrive/ML/email-filtering/imdb_unsup/957_0.txt\n",
            "...Reading file :  /content/drive/MyDrive/ML/email-filtering/imdb_unsup/986_0.txt\n",
            "...Reading file :  /content/drive/MyDrive/ML/email-filtering/imdb_unsup/856_0.txt\n",
            "...Reading file :  /content/drive/MyDrive/ML/email-filtering/imdb_unsup/771_0.txt\n",
            "...Reading file :  /content/drive/MyDrive/ML/email-filtering/imdb_unsup/643_0.txt\n",
            "...Reading file :  /content/drive/MyDrive/ML/email-filtering/imdb_unsup/638_0.txt\n",
            "...Reading file :  /content/drive/MyDrive/ML/email-filtering/imdb_unsup/623_0.txt\n",
            "...Reading file :  /content/drive/MyDrive/ML/email-filtering/imdb_unsup/990_0.txt\n",
            "...Reading file :  /content/drive/MyDrive/ML/email-filtering/imdb_unsup/726_0.txt\n",
            "...Reading file :  /content/drive/MyDrive/ML/email-filtering/imdb_unsup/961_0.txt\n",
            "...Reading file :  /content/drive/MyDrive/ML/email-filtering/imdb_unsup/873_0.txt\n",
            "...Reading file :  /content/drive/MyDrive/ML/email-filtering/imdb_unsup/637_0.txt\n",
            "...Reading file :  /content/drive/MyDrive/ML/email-filtering/imdb_unsup/836_0.txt\n",
            "...Reading file :  /content/drive/MyDrive/ML/email-filtering/imdb_unsup/875_0.txt\n",
            "...Reading file :  /content/drive/MyDrive/ML/email-filtering/imdb_unsup/894_0.txt\n",
            "...Reading file :  /content/drive/MyDrive/ML/email-filtering/imdb_unsup/971_0.txt\n",
            "...Reading file :  /content/drive/MyDrive/ML/email-filtering/imdb_unsup/782_0.txt\n",
            "...Reading file :  /content/drive/MyDrive/ML/email-filtering/imdb_unsup/731_0.txt\n",
            "...Reading file :  /content/drive/MyDrive/ML/email-filtering/imdb_unsup/963_0.txt\n",
            "...Reading file :  /content/drive/MyDrive/ML/email-filtering/imdb_unsup/785_0.txt\n",
            "...Reading file :  /content/drive/MyDrive/ML/email-filtering/imdb_unsup/861_0.txt\n",
            "...Reading file :  /content/drive/MyDrive/ML/email-filtering/imdb_unsup/850_0.txt\n",
            "...Reading file :  /content/drive/MyDrive/ML/email-filtering/imdb_unsup/625_0.txt\n",
            "...Reading file :  /content/drive/MyDrive/ML/email-filtering/imdb_unsup/898_0.txt\n",
            "...Reading file :  /content/drive/MyDrive/ML/email-filtering/imdb_unsup/626_0.txt\n",
            "...Reading file :  /content/drive/MyDrive/ML/email-filtering/imdb_unsup/945_0.txt\n",
            "...Reading file :  /content/drive/MyDrive/ML/email-filtering/imdb_unsup/609_0.txt\n",
            "...Reading file :  /content/drive/MyDrive/ML/email-filtering/imdb_unsup/949_0.txt\n",
            "...Reading file :  /content/drive/MyDrive/ML/email-filtering/imdb_unsup/713_0.txt\n",
            "...Reading file :  /content/drive/MyDrive/ML/email-filtering/imdb_unsup/707_0.txt\n",
            "...Reading file :  /content/drive/MyDrive/ML/email-filtering/imdb_unsup/679_0.txt\n",
            "...Reading file :  /content/drive/MyDrive/ML/email-filtering/imdb_unsup/717_0.txt\n",
            "...Reading file :  /content/drive/MyDrive/ML/email-filtering/imdb_unsup/934_0.txt\n",
            "...Reading file :  /content/drive/MyDrive/ML/email-filtering/imdb_unsup/595_0.txt\n",
            "...Reading file :  /content/drive/MyDrive/ML/email-filtering/imdb_unsup/799_0.txt\n",
            "...Reading file :  /content/drive/MyDrive/ML/email-filtering/imdb_unsup/981_0.txt\n",
            "...Reading file :  /content/drive/MyDrive/ML/email-filtering/imdb_unsup/620_0.txt\n",
            "...Reading file :  /content/drive/MyDrive/ML/email-filtering/imdb_unsup/709_0.txt\n",
            "...Reading file :  /content/drive/MyDrive/ML/email-filtering/imdb_unsup/677_0.txt\n",
            "...Reading file :  /content/drive/MyDrive/ML/email-filtering/imdb_unsup/762_0.txt\n",
            "...Reading file :  /content/drive/MyDrive/ML/email-filtering/imdb_unsup/814_0.txt\n",
            "...Reading file :  /content/drive/MyDrive/ML/email-filtering/imdb_unsup/886_0.txt\n",
            "...Reading file :  /content/drive/MyDrive/ML/email-filtering/imdb_unsup/988_0.txt\n",
            "...Reading file :  /content/drive/MyDrive/ML/email-filtering/imdb_unsup/959_0.txt\n",
            "...Reading file :  /content/drive/MyDrive/ML/email-filtering/imdb_unsup/606_0.txt\n",
            "...Reading file :  /content/drive/MyDrive/ML/email-filtering/imdb_unsup/766_0.txt\n",
            "...Reading file :  /content/drive/MyDrive/ML/email-filtering/imdb_unsup/672_0.txt\n",
            "...Reading file :  /content/drive/MyDrive/ML/email-filtering/imdb_unsup/654_0.txt\n",
            "...Reading file :  /content/drive/MyDrive/ML/email-filtering/imdb_unsup/747_0.txt\n",
            "...Reading file :  /content/drive/MyDrive/ML/email-filtering/imdb_unsup/621_0.txt\n",
            "...Reading file :  /content/drive/MyDrive/ML/email-filtering/imdb_unsup/840_0.txt\n",
            "...Reading file :  /content/drive/MyDrive/ML/email-filtering/imdb_unsup/622_0.txt\n",
            "...Reading file :  /content/drive/MyDrive/ML/email-filtering/imdb_unsup/907_0.txt\n",
            "...Reading file :  /content/drive/MyDrive/ML/email-filtering/imdb_unsup/651_0.txt\n",
            "...Reading file :  /content/drive/MyDrive/ML/email-filtering/imdb_unsup/685_0.txt\n",
            "...Reading file :  /content/drive/MyDrive/ML/email-filtering/imdb_unsup/615_0.txt\n",
            "...Reading file :  /content/drive/MyDrive/ML/email-filtering/imdb_unsup/601_0.txt\n",
            "...Reading file :  /content/drive/MyDrive/ML/email-filtering/imdb_unsup/661_0.txt\n",
            "...Reading file :  /content/drive/MyDrive/ML/email-filtering/imdb_unsup/727_0.txt\n",
            "...Reading file :  /content/drive/MyDrive/ML/email-filtering/imdb_unsup/665_0.txt\n",
            "...Reading file :  /content/drive/MyDrive/ML/email-filtering/imdb_unsup/869_0.txt\n",
            "...Reading file :  /content/drive/MyDrive/ML/email-filtering/imdb_unsup/681_0.txt\n",
            "...Reading file :  /content/drive/MyDrive/ML/email-filtering/imdb_unsup/647_0.txt\n",
            "...Reading file :  /content/drive/MyDrive/ML/email-filtering/imdb_unsup/658_0.txt\n",
            "...Reading file :  /content/drive/MyDrive/ML/email-filtering/imdb_unsup/744_0.txt\n",
            "...Reading file :  /content/drive/MyDrive/ML/email-filtering/imdb_unsup/669_0.txt\n",
            "...Reading file :  /content/drive/MyDrive/ML/email-filtering/imdb_unsup/812_0.txt\n",
            "...Reading file :  /content/drive/MyDrive/ML/email-filtering/imdb_unsup/705_0.txt\n",
            "...Reading file :  /content/drive/MyDrive/ML/email-filtering/imdb_unsup/673_0.txt\n",
            "...Reading file :  /content/drive/MyDrive/ML/email-filtering/imdb_unsup/763_0.txt\n",
            "...Reading file :  /content/drive/MyDrive/ML/email-filtering/imdb_unsup/803_0.txt\n",
            "...Reading file :  /content/drive/MyDrive/ML/email-filtering/imdb_unsup/780_0.txt\n",
            "...Reading file :  /content/drive/MyDrive/ML/email-filtering/imdb_unsup/740_0.txt\n",
            "...Reading file :  /content/drive/MyDrive/ML/email-filtering/imdb_unsup/838_0.txt\n",
            "...Reading file :  /content/drive/MyDrive/ML/email-filtering/imdb_unsup/911_0.txt\n",
            "...Reading file :  /content/drive/MyDrive/ML/email-filtering/imdb_unsup/863_0.txt\n",
            "...Reading file :  /content/drive/MyDrive/ML/email-filtering/imdb_unsup/920_0.txt\n",
            "...Reading file :  /content/drive/MyDrive/ML/email-filtering/imdb_unsup/671_0.txt\n",
            "...Reading file :  /content/drive/MyDrive/ML/email-filtering/imdb_unsup/837_0.txt\n",
            "...Reading file :  /content/drive/MyDrive/ML/email-filtering/imdb_unsup/690_0.txt\n",
            "...Reading file :  /content/drive/MyDrive/ML/email-filtering/imdb_unsup/754_0.txt\n",
            "...Reading file :  /content/drive/MyDrive/ML/email-filtering/imdb_unsup/631_0.txt\n",
            "...Reading file :  /content/drive/MyDrive/ML/email-filtering/imdb_unsup/784_0.txt\n",
            "...Reading file :  /content/drive/MyDrive/ML/email-filtering/imdb_unsup/791_0.txt\n",
            "...Reading file :  /content/drive/MyDrive/ML/email-filtering/imdb_unsup/871_0.txt\n",
            "...Reading file :  /content/drive/MyDrive/ML/email-filtering/imdb_unsup/612_0.txt\n",
            "...Reading file :  /content/drive/MyDrive/ML/email-filtering/imdb_unsup/797_0.txt\n",
            "...Reading file :  /content/drive/MyDrive/ML/email-filtering/imdb_unsup/946_0.txt\n",
            "...Reading file :  /content/drive/MyDrive/ML/email-filtering/imdb_unsup/648_0.txt\n",
            "...Reading file :  /content/drive/MyDrive/ML/email-filtering/imdb_unsup/885_0.txt\n",
            "...Reading file :  /content/drive/MyDrive/ML/email-filtering/imdb_unsup/996_0.txt\n",
            "...Reading file :  /content/drive/MyDrive/ML/email-filtering/imdb_unsup/806_0.txt\n",
            "...Reading file :  /content/drive/MyDrive/ML/email-filtering/imdb_unsup/808_0.txt\n",
            "...Reading file :  /content/drive/MyDrive/ML/email-filtering/imdb_unsup/980_0.txt\n",
            "...Reading file :  /content/drive/MyDrive/ML/email-filtering/imdb_unsup/786_0.txt\n",
            "...Reading file :  /content/drive/MyDrive/ML/email-filtering/imdb_unsup/759_0.txt\n",
            "...Reading file :  /content/drive/MyDrive/ML/email-filtering/imdb_unsup/734_0.txt\n",
            "...Reading file :  /content/drive/MyDrive/ML/email-filtering/imdb_unsup/954_0.txt\n",
            "...Reading file :  /content/drive/MyDrive/ML/email-filtering/imdb_unsup/925_0.txt\n",
            "...Reading file :  /content/drive/MyDrive/ML/email-filtering/imdb_unsup/706_0.txt\n",
            "...Reading file :  /content/drive/MyDrive/ML/email-filtering/imdb_unsup/795_0.txt\n",
            "...Reading file :  /content/drive/MyDrive/ML/email-filtering/imdb_unsup/777_0.txt\n",
            "...Reading file :  /content/drive/MyDrive/ML/email-filtering/imdb_unsup/828_0.txt\n",
            "...Reading file :  /content/drive/MyDrive/ML/email-filtering/imdb_unsup/909_0.txt\n",
            "...Reading file :  /content/drive/MyDrive/ML/email-filtering/imdb_unsup/642_0.txt\n",
            "...Reading file :  /content/drive/MyDrive/ML/email-filtering/imdb_unsup/714_0.txt\n",
            "...Reading file :  /content/drive/MyDrive/ML/email-filtering/imdb_unsup/614_0.txt\n",
            "...Reading file :  /content/drive/MyDrive/ML/email-filtering/imdb_unsup/775_0.txt\n",
            "...Reading file :  /content/drive/MyDrive/ML/email-filtering/imdb_unsup/813_0.txt\n",
            "...Reading file :  /content/drive/MyDrive/ML/email-filtering/imdb_unsup/926_0.txt\n",
            "...Reading file :  /content/drive/MyDrive/ML/email-filtering/imdb_unsup/985_0.txt\n",
            "...Reading file :  /content/drive/MyDrive/ML/email-filtering/imdb_unsup/821_0.txt\n",
            "...Reading file :  /content/drive/MyDrive/ML/email-filtering/imdb_unsup/783_0.txt\n",
            "...Reading file :  /content/drive/MyDrive/ML/email-filtering/imdb_unsup/826_0.txt\n",
            "...Reading file :  /content/drive/MyDrive/ML/email-filtering/imdb_unsup/743_0.txt\n",
            "...Reading file :  /content/drive/MyDrive/ML/email-filtering/imdb_unsup/757_0.txt\n",
            "...Reading file :  /content/drive/MyDrive/ML/email-filtering/imdb_unsup/624_0.txt\n",
            "...Reading file :  /content/drive/MyDrive/ML/email-filtering/imdb_unsup/924_0.txt\n",
            "...Reading file :  /content/drive/MyDrive/ML/email-filtering/imdb_unsup/644_0.txt\n",
            "...Reading file :  /content/drive/MyDrive/ML/email-filtering/imdb_unsup/966_0.txt\n",
            "...Reading file :  /content/drive/MyDrive/ML/email-filtering/imdb_unsup/960_0.txt\n",
            "...Reading file :  /content/drive/MyDrive/ML/email-filtering/imdb_unsup/932_0.txt\n",
            "...Reading file :  /content/drive/MyDrive/ML/email-filtering/imdb_unsup/770_0.txt\n",
            "...Reading file :  /content/drive/MyDrive/ML/email-filtering/imdb_unsup/879_0.txt\n",
            "...Reading file :  /content/drive/MyDrive/ML/email-filtering/imdb_unsup/597_0.txt\n",
            "...Reading file :  /content/drive/MyDrive/ML/email-filtering/imdb_unsup/793_0.txt\n",
            "...Reading file :  /content/drive/MyDrive/ML/email-filtering/imdb_unsup/941_0.txt\n",
            "...Reading file :  /content/drive/MyDrive/ML/email-filtering/imdb_unsup/628_0.txt\n",
            "...Reading file :  /content/drive/MyDrive/ML/email-filtering/imdb_unsup/760_0.txt\n",
            "...Reading file :  /content/drive/MyDrive/ML/email-filtering/imdb_unsup/928_0.txt\n",
            "...Reading file :  /content/drive/MyDrive/ML/email-filtering/imdb_unsup/810_0.txt\n",
            "...Reading file :  /content/drive/MyDrive/ML/email-filtering/imdb_unsup/675_0.txt\n",
            "...Reading file :  /content/drive/MyDrive/ML/email-filtering/imdb_unsup/881_0.txt\n",
            "...Reading file :  /content/drive/MyDrive/ML/email-filtering/imdb_unsup/958_0.txt\n",
            "...Reading file :  /content/drive/MyDrive/ML/email-filtering/imdb_unsup/919_0.txt\n",
            "...Reading file :  /content/drive/MyDrive/ML/email-filtering/imdb_unsup/839_0.txt\n",
            "...Reading file :  /content/drive/MyDrive/ML/email-filtering/imdb_unsup/882_0.txt\n",
            "...Reading file :  /content/drive/MyDrive/ML/email-filtering/imdb_unsup/848_0.txt\n",
            "...Reading file :  /content/drive/MyDrive/ML/email-filtering/imdb_unsup/851_0.txt\n",
            "...Reading file :  /content/drive/MyDrive/ML/email-filtering/imdb_unsup/935_0.txt\n",
            "...Reading file :  /content/drive/MyDrive/ML/email-filtering/imdb_unsup/668_0.txt\n",
            "...Reading file :  /content/drive/MyDrive/ML/email-filtering/imdb_unsup/676_0.txt\n",
            "...Reading file :  /content/drive/MyDrive/ML/email-filtering/imdb_unsup/902_0.txt\n",
            "...Reading file :  /content/drive/MyDrive/ML/email-filtering/imdb_unsup/835_0.txt\n",
            "...Reading file :  /content/drive/MyDrive/ML/email-filtering/imdb_unsup/929_0.txt\n",
            "...Reading file :  /content/drive/MyDrive/ML/email-filtering/imdb_unsup/824_0.txt\n",
            "...Reading file :  /content/drive/MyDrive/ML/email-filtering/imdb_unsup/664_0.txt\n",
            "...Reading file :  /content/drive/MyDrive/ML/email-filtering/imdb_unsup/901_0.txt\n",
            "...Reading file :  /content/drive/MyDrive/ML/email-filtering/imdb_unsup/825_0.txt\n",
            "...Reading file :  /content/drive/MyDrive/ML/email-filtering/imdb_unsup/982_0.txt\n",
            "...Reading file :  /content/drive/MyDrive/ML/email-filtering/imdb_unsup/864_0.txt\n",
            "...Reading file :  /content/drive/MyDrive/ML/email-filtering/imdb_unsup/846_0.txt\n",
            "...Reading file :  /content/drive/MyDrive/ML/email-filtering/imdb_unsup/636_0.txt\n",
            "...Reading file :  /content/drive/MyDrive/ML/email-filtering/imdb_unsup/939_0.txt\n",
            "...Reading file :  /content/drive/MyDrive/ML/email-filtering/imdb_unsup/845_0.txt\n",
            "...Reading file :  /content/drive/MyDrive/ML/email-filtering/imdb_unsup/830_0.txt\n",
            "...Reading file :  /content/drive/MyDrive/ML/email-filtering/imdb_unsup/962_0.txt\n",
            "...Reading file :  /content/drive/MyDrive/ML/email-filtering/imdb_unsup/860_0.txt\n",
            "...Reading file :  /content/drive/MyDrive/ML/email-filtering/imdb_unsup/604_0.txt\n",
            "...Reading file :  /content/drive/MyDrive/ML/email-filtering/imdb_unsup/938_0.txt\n",
            "...Reading file :  /content/drive/MyDrive/ML/email-filtering/imdb_unsup/921_0.txt\n",
            "...Reading file :  /content/drive/MyDrive/ML/email-filtering/imdb_unsup/598_0.txt\n",
            "...Reading file :  /content/drive/MyDrive/ML/email-filtering/imdb_unsup/711_0.txt\n",
            "...Reading file :  /content/drive/MyDrive/ML/email-filtering/imdb_unsup/769_0.txt\n",
            "...Reading file :  /content/drive/MyDrive/ML/email-filtering/imdb_unsup/645_0.txt\n",
            "...Reading file :  /content/drive/MyDrive/ML/email-filtering/imdb_unsup/680_0.txt\n",
            "...Reading file :  /content/drive/MyDrive/ML/email-filtering/imdb_unsup/842_0.txt\n",
            "...Reading file :  /content/drive/MyDrive/ML/email-filtering/imdb_unsup/974_0.txt\n",
            "...Reading file :  /content/drive/MyDrive/ML/email-filtering/imdb_unsup/603_0.txt\n",
            "...Reading file :  /content/drive/MyDrive/ML/email-filtering/imdb_unsup/687_0.txt\n",
            "...Reading file :  /content/drive/MyDrive/ML/email-filtering/imdb_unsup/944_0.txt\n",
            "...Reading file :  /content/drive/MyDrive/ML/email-filtering/imdb_unsup/733_0.txt\n",
            "...Reading file :  /content/drive/MyDrive/ML/email-filtering/imdb_unsup/892_0.txt\n",
            "...Reading file :  /content/drive/MyDrive/ML/email-filtering/imdb_unsup/978_0.txt\n",
            "...Reading file :  /content/drive/MyDrive/ML/email-filtering/imdb_unsup/972_0.txt\n",
            "...Reading file :  /content/drive/MyDrive/ML/email-filtering/imdb_unsup/811_0.txt\n",
            "...Reading file :  /content/drive/MyDrive/ML/email-filtering/imdb_unsup/755_0.txt\n",
            "...Reading file :  /content/drive/MyDrive/ML/email-filtering/imdb_unsup/890_0.txt\n",
            "...Reading file :  /content/drive/MyDrive/ML/email-filtering/imdb_unsup/778_0.txt\n",
            "...Reading file :  /content/drive/MyDrive/ML/email-filtering/imdb_unsup/698_0.txt\n",
            "...Reading file :  /content/drive/MyDrive/ML/email-filtering/imdb_unsup/884_0.txt\n",
            "...Reading file :  /content/drive/MyDrive/ML/email-filtering/imdb_unsup/904_0.txt\n",
            "...Reading file :  /content/drive/MyDrive/ML/email-filtering/imdb_unsup/699_0.txt\n",
            "...Reading file :  /content/drive/MyDrive/ML/email-filtering/imdb_unsup/646_0.txt\n",
            "...Reading file :  /content/drive/MyDrive/ML/email-filtering/imdb_unsup/618_0.txt\n",
            "...Reading file :  /content/drive/MyDrive/ML/email-filtering/imdb_unsup/670_0.txt\n",
            "...Reading file :  /content/drive/MyDrive/ML/email-filtering/imdb_unsup/989_0.txt\n",
            "...Reading file :  /content/drive/MyDrive/ML/email-filtering/imdb_unsup/852_0.txt\n",
            "...Reading file :  /content/drive/MyDrive/ML/email-filtering/imdb_unsup/829_0.txt\n",
            "...Reading file :  /content/drive/MyDrive/ML/email-filtering/imdb_unsup/841_0.txt\n",
            "...Reading file :  /content/drive/MyDrive/ML/email-filtering/imdb_unsup/951_0.txt\n",
            "...Reading file :  /content/drive/MyDrive/ML/email-filtering/imdb_unsup/611_0.txt\n",
            "...Reading file :  /content/drive/MyDrive/ML/email-filtering/imdb_unsup/704_0.txt\n",
            "...Reading file :  /content/drive/MyDrive/ML/email-filtering/imdb_unsup/800_0.txt\n",
            "...Reading file :  /content/drive/MyDrive/ML/email-filtering/imdb_unsup/764_0.txt\n",
            "...Reading file :  /content/drive/MyDrive/ML/email-filtering/imdb_unsup/858_0.txt\n",
            "...Reading file :  /content/drive/MyDrive/ML/email-filtering/imdb_unsup/870_0.txt\n",
            "...Reading file :  /content/drive/MyDrive/ML/email-filtering/imdb_unsup/896_0.txt\n",
            "...Reading file :  /content/drive/MyDrive/ML/email-filtering/imdb_unsup/992_0.txt\n",
            "...Reading file :  /content/drive/MyDrive/ML/email-filtering/imdb_unsup/639_0.txt\n",
            "...Reading file :  /content/drive/MyDrive/ML/email-filtering/imdb_unsup/684_0.txt\n",
            "...Reading file :  /content/drive/MyDrive/ML/email-filtering/imdb_unsup/975_0.txt\n",
            "...Reading file :  /content/drive/MyDrive/ML/email-filtering/imdb_unsup/765_0.txt\n",
            "...Reading file :  /content/drive/MyDrive/ML/email-filtering/imdb_unsup/701_0.txt\n",
            "...Reading file :  /content/drive/MyDrive/ML/email-filtering/imdb_unsup/940_0.txt\n",
            "...Reading file :  /content/drive/MyDrive/ML/email-filtering/imdb_unsup/889_0.txt\n",
            "...Reading file :  /content/drive/MyDrive/ML/email-filtering/imdb_unsup/678_0.txt\n",
            "...Reading file :  /content/drive/MyDrive/ML/email-filtering/imdb_unsup/952_0.txt\n",
            "...Reading file :  /content/drive/MyDrive/ML/email-filtering/imdb_unsup/815_0.txt\n",
            "...Reading file :  /content/drive/MyDrive/ML/email-filtering/imdb_unsup/725_0.txt\n",
            "...Reading file :  /content/drive/MyDrive/ML/email-filtering/imdb_unsup/973_0.txt\n",
            "...Reading file :  /content/drive/MyDrive/ML/email-filtering/imdb_unsup/736_0.txt\n",
            "...Reading file :  /content/drive/MyDrive/ML/email-filtering/imdb_unsup/834_0.txt\n",
            "...Reading file :  /content/drive/MyDrive/ML/email-filtering/imdb_unsup/874_0.txt\n",
            "...Reading file :  /content/drive/MyDrive/ML/email-filtering/imdb_unsup/993_0.txt\n",
            "...Reading file :  /content/drive/MyDrive/ML/email-filtering/imdb_unsup/794_0.txt\n",
            "...Reading file :  /content/drive/MyDrive/ML/email-filtering/imdb_unsup/700_0.txt\n",
            "...Reading file :  /content/drive/MyDrive/ML/email-filtering/imdb_unsup/756_0.txt\n",
            "...Reading file :  /content/drive/MyDrive/ML/email-filtering/imdb_unsup/781_0.txt\n",
            "...Reading file :  /content/drive/MyDrive/ML/email-filtering/imdb_unsup/818_0.txt\n",
            "...Reading file :  /content/drive/MyDrive/ML/email-filtering/imdb_unsup/666_0.txt\n",
            "...Reading file :  /content/drive/MyDrive/ML/email-filtering/imdb_unsup/977_0.txt\n",
            "...Reading file :  /content/drive/MyDrive/ML/email-filtering/imdb_unsup/888_0.txt\n",
            "...Reading file :  /content/drive/MyDrive/ML/email-filtering/imdb_unsup/662_0.txt\n",
            "...Reading file :  /content/drive/MyDrive/ML/email-filtering/imdb_unsup/816_0.txt\n",
            "...Reading file :  /content/drive/MyDrive/ML/email-filtering/imdb_unsup/607_0.txt\n",
            "...Reading file :  /content/drive/MyDrive/ML/email-filtering/imdb_unsup/682_0.txt\n",
            "...Reading file :  /content/drive/MyDrive/ML/email-filtering/imdb_unsup/927_0.txt\n",
            "...Reading file :  /content/drive/MyDrive/ML/email-filtering/imdb_unsup/659_0.txt\n",
            "...Reading file :  /content/drive/MyDrive/ML/email-filtering/imdb_unsup/235_0.txt\n"
          ],
          "name": "stdout"
        }
      ]
    },
    {
      "cell_type": "code",
      "metadata": {
        "colab": {
          "base_uri": "https://localhost:8080/"
        },
        "id": "2UlOf3WRdj7R",
        "outputId": "9868f6c7-5c65-407a-c1b0-f07c7a3e7ee0"
      },
      "source": [
        "df = pd.DataFrame()\n",
        "df['review'] = arry\n",
        "df['path'] = file_name\n",
        "df.describe"
      ],
      "execution_count": 153,
      "outputs": [
        {
          "output_type": "execute_result",
          "data": {
            "text/plain": [
              "<bound method NDFrame.describe of                                                  review                                               path\n",
              "0      Rob Reiner is hilarious. I haven't seen the m...  /content/drive/MyDrive/ML/email-filtering/imdb...\n",
              "1      Ringu 0 fills in a few of the blanks in the R...  /content/drive/MyDrive/ML/email-filtering/imdb...\n",
              "2      I saw this on cable last night, just 2 days a...  /content/drive/MyDrive/ML/email-filtering/imdb...\n",
              "3      I saw this for about the third time last nigh...  /content/drive/MyDrive/ML/email-filtering/imdb...\n",
              "4      Magnificent Warriors is an enjoyable and ente...  /content/drive/MyDrive/ML/email-filtering/imdb...\n",
              "...                                                 ...                                                ...\n",
              "996    Omg! I love days, it is so awesome. I have be...  /content/drive/MyDrive/ML/email-filtering/imdb...\n",
              "997    I've seen the movie at the Malaga Festival, S...  /content/drive/MyDrive/ML/email-filtering/imdb...\n",
              "998    What a loser this 1998 film is.<br /><br />It...  /content/drive/MyDrive/ML/email-filtering/imdb...\n",
              "999    \"Win Ben Stein's Money\" was one of the best s...  /content/drive/MyDrive/ML/email-filtering/imdb...\n",
              "1000   In addition to being my absolute favorite CD ...  /content/drive/MyDrive/ML/email-filtering/imdb...\n",
              "\n",
              "[1001 rows x 2 columns]>"
            ]
          },
          "metadata": {
            "tags": []
          },
          "execution_count": 153
        }
      ]
    },
    {
      "cell_type": "markdown",
      "metadata": {
        "id": "bF8bO_RKkDAQ"
      },
      "source": [
        "### Generating CSV"
      ]
    },
    {
      "cell_type": "code",
      "metadata": {
        "id": "PpeB7N_yfwye"
      },
      "source": [
        "# save the data\n",
        "df.to_csv(\"/content/drive/MyDrive/ML/email-filtering/imdb_data.csv\", index=False)"
      ],
      "execution_count": 154,
      "outputs": []
    },
    {
      "cell_type": "markdown",
      "metadata": {
        "id": "2ZMJbrtnqvkg"
      },
      "source": [
        "## Further Preprocessing of Enron"
      ]
    },
    {
      "cell_type": "code",
      "metadata": {
        "colab": {
          "base_uri": "https://localhost:8080/",
          "height": 206
        },
        "id": "OeYDZ3QHq0B4",
        "outputId": "a6db795e-cd0d-4aa6-b891-587262987a73"
      },
      "source": [
        "df = pd.read_csv(\"/content/drive/MyDrive/ML/email-filtering/enron_email_96_cleaned_data.csv\")\n",
        "df.head()"
      ],
      "execution_count": 3,
      "outputs": [
        {
          "output_type": "execute_result",
          "data": {
            "text/html": [
              "<div>\n",
              "<style scoped>\n",
              "    .dataframe tbody tr th:only-of-type {\n",
              "        vertical-align: middle;\n",
              "    }\n",
              "\n",
              "    .dataframe tbody tr th {\n",
              "        vertical-align: top;\n",
              "    }\n",
              "\n",
              "    .dataframe thead th {\n",
              "        text-align: right;\n",
              "    }\n",
              "</style>\n",
              "<table border=\"1\" class=\"dataframe\">\n",
              "  <thead>\n",
              "    <tr style=\"text-align: right;\">\n",
              "      <th></th>\n",
              "      <th>body</th>\n",
              "      <th>from</th>\n",
              "      <th>subject</th>\n",
              "      <th>emp</th>\n",
              "    </tr>\n",
              "  </thead>\n",
              "  <tbody>\n",
              "    <tr>\n",
              "      <th>0</th>\n",
              "      <td>Traveling to have a business meeting takes the...</td>\n",
              "      <td>phillip.allen@enron.com</td>\n",
              "      <td>Re:</td>\n",
              "      <td>allen-p</td>\n",
              "    </tr>\n",
              "    <tr>\n",
              "      <th>1</th>\n",
              "      <td>test successful.  way to go!!!</td>\n",
              "      <td>phillip.allen@enron.com</td>\n",
              "      <td>Re: test</td>\n",
              "      <td>allen-p</td>\n",
              "    </tr>\n",
              "    <tr>\n",
              "      <th>2</th>\n",
              "      <td>Let's shoot for Tuesday at 11:45.</td>\n",
              "      <td>phillip.allen@enron.com</td>\n",
              "      <td>Re: Hello</td>\n",
              "      <td>allen-p</td>\n",
              "    </tr>\n",
              "    <tr>\n",
              "      <th>3</th>\n",
              "      <td>Greg,\\n\\n How about either next Tuesday or Thu...</td>\n",
              "      <td>phillip.allen@enron.com</td>\n",
              "      <td>Re: Hello</td>\n",
              "      <td>allen-p</td>\n",
              "    </tr>\n",
              "    <tr>\n",
              "      <th>4</th>\n",
              "      <td>any morning between 10 and 11:30</td>\n",
              "      <td>phillip.allen@enron.com</td>\n",
              "      <td>Re: PRC review - phone calls</td>\n",
              "      <td>allen-p</td>\n",
              "    </tr>\n",
              "  </tbody>\n",
              "</table>\n",
              "</div>"
            ],
            "text/plain": [
              "                                                body  ...      emp\n",
              "0  Traveling to have a business meeting takes the...  ...  allen-p\n",
              "1                     test successful.  way to go!!!  ...  allen-p\n",
              "2                Let's shoot for Tuesday at 11:45.    ...  allen-p\n",
              "3  Greg,\\n\\n How about either next Tuesday or Thu...  ...  allen-p\n",
              "4                   any morning between 10 and 11:30  ...  allen-p\n",
              "\n",
              "[5 rows x 4 columns]"
            ]
          },
          "metadata": {
            "tags": []
          },
          "execution_count": 3
        }
      ]
    },
    {
      "cell_type": "code",
      "metadata": {
        "colab": {
          "base_uri": "https://localhost:8080/"
        },
        "id": "PdbrZoGeubPU",
        "outputId": "8057ba8f-a964-4ad0-d00e-e66ff4e4b8b7"
      },
      "source": [
        "df.isnull().sum(), df.shape"
      ],
      "execution_count": 4,
      "outputs": [
        {
          "output_type": "execute_result",
          "data": {
            "text/plain": [
              "(body       0\n",
              " from       0\n",
              " subject    0\n",
              " emp        0\n",
              " dtype: int64, (34553, 4))"
            ]
          },
          "metadata": {
            "tags": []
          },
          "execution_count": 4
        }
      ]
    },
    {
      "cell_type": "code",
      "metadata": {
        "id": "V5O0kk3L3NRy"
      },
      "source": [
        "text = df['body'][0]"
      ],
      "execution_count": 5,
      "outputs": []
    },
    {
      "cell_type": "code",
      "metadata": {
        "id": "1BQuiAlY_dtF"
      },
      "source": [
        "def createTokenOfDoc(text) :# split into tokens by white space\n",
        "  tokens = text.split()\n",
        "  # remove punctuation from each token\n",
        "  table = str.maketrans('', '', string.punctuation)\n",
        "  tokens = [w.translate(table) for w in tokens]\n",
        "  # remove remaining tokens that are not alphabetic\n",
        "  tokens = [word for word in tokens if word.isalpha()]\n",
        "  # filter out stop words\n",
        "  stop_words = set(stopwords.words('english'))\n",
        "  tokens = [w for w in tokens if not w in stop_words]\n",
        "  # filter out short tokens\n",
        "  tokens = [word for word in tokens if len(word) > 1]\n",
        "  return tokens\n",
        "\n",
        "def addDocToVocab() :\n",
        "  for i in range(df.shape[0]) :\n",
        "    msg = df['body'][i]"
      ],
      "execution_count": 7,
      "outputs": []
    },
    {
      "cell_type": "code",
      "metadata": {
        "id": "fE9ZgrVTOrsr"
      },
      "source": [
        "data = [d for d in df['body']]"
      ],
      "execution_count": 8,
      "outputs": []
    },
    {
      "cell_type": "code",
      "metadata": {
        "id": "P2RcTxQOAFZ1"
      },
      "source": [
        "def tagged_document(list_of_list_of_words):\n",
        "   for i, list_of_words in enumerate(list_of_list_of_words):\n",
        "      temp = createTokenOfDoc(list_of_words)\n",
        "      yield gensim.models.doc2vec.TaggedDocument(temp, [i])"
      ],
      "execution_count": 9,
      "outputs": []
    },
    {
      "cell_type": "code",
      "metadata": {
        "id": "JdolM6gICYDK"
      },
      "source": [
        "training_data = list(tagged_document(data))"
      ],
      "execution_count": 14,
      "outputs": []
    },
    {
      "cell_type": "code",
      "metadata": {
        "colab": {
          "base_uri": "https://localhost:8080/"
        },
        "id": "FzjvdOUhNY-l",
        "outputId": "985f3d8a-f578-48e6-c55b-534ad620ef6a"
      },
      "source": [
        "print(training_data[:1])"
      ],
      "execution_count": 15,
      "outputs": [
        {
          "output_type": "stream",
          "text": [
            "[TaggedDocument(words=['Traveling', 'business', 'meeting', 'takes', 'fun', 'trip', 'Especially', 'prepare', 'presentation', 'would', 'suggest', 'holding', 'business', 'plan', 'meetings', 'take', 'trip', 'without', 'formal', 'business', 'meetings', 'would', 'even', 'try', 'get', 'honest', 'opinions', 'whether', 'trip', 'even', 'desired', 'necessary', 'As', 'far', 'business', 'meetings', 'think', 'would', 'productive', 'try', 'stimulate', 'discussions', 'across', 'different', 'groups', 'working', 'Too', 'often', 'presenter', 'speaks', 'others', 'quiet', 'waiting', 'turn', 'The', 'meetings', 'might', 'better', 'held', 'round', 'table', 'discussion', 'format', 'My', 'suggestion', 'go', 'Austin', 'Play', 'golf', 'rent', 'ski', 'boat', 'jet', 'skis', 'Flying', 'somewhere', 'takes', 'much', 'time'], tags=[0])]\n"
          ],
          "name": "stdout"
        }
      ]
    },
    {
      "cell_type": "code",
      "metadata": {
        "id": "9l2NIA1zRL6o"
      },
      "source": [
        "model_dbow = gensim.models.doc2vec.Doc2Vec(vector_size=40, min_count=2, epochs=30, dm=0)\n",
        "model_pvdm = gensim.models.doc2vec.Doc2Vec(vector_size=40, min_count=2, epochs=30, dm=1)"
      ],
      "execution_count": 16,
      "outputs": []
    },
    {
      "cell_type": "code",
      "metadata": {
        "id": "5i7ZGGbtRQik"
      },
      "source": [
        "model_pvdm.build_vocab(training_data)\n",
        "model_dbow.build_vocab(training_data)"
      ],
      "execution_count": 17,
      "outputs": []
    },
    {
      "cell_type": "code",
      "metadata": {
        "id": "EOwCnFVRRikM"
      },
      "source": [
        "model_pvdm.train(training_data, total_examples=model_pvdm.corpus_count, epochs=model_pvdm.epochs)\n",
        "model_dbow.train(training_data, total_examples=model_dbow.corpus_count, epochs=model_dbow.epochs)"
      ],
      "execution_count": 18,
      "outputs": []
    },
    {
      "cell_type": "code",
      "metadata": {
        "colab": {
          "base_uri": "https://localhost:8080/"
        },
        "id": "vz_qRgcjUDmi",
        "outputId": "dcff3a6a-4216-45cc-87de-af49d45dfd98"
      },
      "source": [
        "print(model_pvdm.infer_vector(['violent', 'means', 'to', 'destroy', 'the','organization']))"
      ],
      "execution_count": 19,
      "outputs": [
        {
          "output_type": "stream",
          "text": [
            "[ 0.21906167 -0.04755198 -0.18405055  0.29257524 -0.12428429 -0.10712081\n",
            "  0.09656919  0.1415669   0.14353591 -0.06794018 -0.18306084 -0.04052676\n",
            " -0.22831178 -0.01623837  0.08603929 -0.22757185 -0.32085246  0.32467893\n",
            "  0.09781467 -0.01549011 -0.18330312 -0.04584618 -0.30970886 -0.16448371\n",
            " -0.33871233  0.06283942  0.14584975  0.13372241  0.00765933  0.2042862\n",
            "  0.0255267   0.17516422  0.06241405 -0.03990404  0.33692127 -0.08878323\n",
            "  0.22658172 -0.07366302 -0.16770764 -0.09443679]\n"
          ],
          "name": "stdout"
        }
      ]
    },
    {
      "cell_type": "code",
      "metadata": {
        "colab": {
          "base_uri": "https://localhost:8080/"
        },
        "id": "G6NeyrPHUI9A",
        "outputId": "aa3023df-cad5-4861-9148-62a3c8d0a0b3"
      },
      "source": [
        "print(model_dbow.infer_vector(['violent', 'means', 'to', 'destroy', 'the','organization']))"
      ],
      "execution_count": 20,
      "outputs": [
        {
          "output_type": "stream",
          "text": [
            "[ 0.3584102  -0.5408498   0.2109375   0.07119334  0.20896086  0.11981548\n",
            " -0.32668322 -0.00626258  0.27901796 -0.02273053  0.4481902   0.07652568\n",
            "  0.39902133  0.00837954 -0.2583868   0.5023024   0.27607074 -0.19447395\n",
            " -0.08043459  0.16914839 -0.44276494 -0.39575014  0.2549558  -0.30415788\n",
            "  0.11266185  0.06322607 -0.0285122  -0.01912311 -0.14969748  0.12108255\n",
            " -0.20452592 -0.22368553  0.28236237  0.11151958  0.01962592 -0.15626468\n",
            "  0.1912773   0.5332651  -0.12244439  0.11756217]\n"
          ],
          "name": "stdout"
        }
      ]
    },
    {
      "cell_type": "code",
      "metadata": {
        "colab": {
          "base_uri": "https://localhost:8080/"
        },
        "id": "8KpoKepcWczm",
        "outputId": "235ef009-4b28-4b66-dedc-2b7eebd0eab9"
      },
      "source": [
        "model_pvdm.most_similar(\"violent\")"
      ],
      "execution_count": 21,
      "outputs": [
        {
          "output_type": "stream",
          "text": [
            "/usr/local/lib/python3.7/dist-packages/ipykernel_launcher.py:1: DeprecationWarning: Call to deprecated `most_similar` (Method will be removed in 4.0.0, use self.wv.most_similar() instead).\n",
            "  \"\"\"Entry point for launching an IPython kernel.\n"
          ],
          "name": "stderr"
        },
        {
          "output_type": "execute_result",
          "data": {
            "text/plain": [
              "[('curiously', 0.7227596044540405),\n",
              " ('inly', 0.7137914299964905),\n",
              " ('Nazi', 0.669225811958313),\n",
              " ('combat', 0.653717041015625),\n",
              " ('gibberish', 0.6502127647399902),\n",
              " ('detained', 0.6458158493041992),\n",
              " ('bashed', 0.640113115310669),\n",
              " ('strolling', 0.6398036479949951),\n",
              " ('tears', 0.637702465057373),\n",
              " ('certa', 0.6376535892486572)]"
            ]
          },
          "metadata": {
            "tags": []
          },
          "execution_count": 21
        }
      ]
    },
    {
      "cell_type": "code",
      "metadata": {
        "colab": {
          "base_uri": "https://localhost:8080/"
        },
        "id": "3m8r1hNIWfnD",
        "outputId": "3052b41b-4445-49f4-9258-f37caead0365"
      },
      "source": [
        "model_dbow.most_similar(\"violent\")"
      ],
      "execution_count": 22,
      "outputs": [
        {
          "output_type": "stream",
          "text": [
            "/usr/local/lib/python3.7/dist-packages/ipykernel_launcher.py:1: DeprecationWarning: Call to deprecated `most_similar` (Method will be removed in 4.0.0, use self.wv.most_similar() instead).\n",
            "  \"\"\"Entry point for launching an IPython kernel.\n"
          ],
          "name": "stderr"
        },
        {
          "output_type": "execute_result",
          "data": {
            "text/plain": [
              "[('silicon', 0.6657581329345703),\n",
              " ('BTUs', 0.5954455137252808),\n",
              " ('mailtojessicanburkehotmailcom', 0.5918024778366089),\n",
              " ('KilchristNAEnronEnron', 0.582676887512207),\n",
              " ('Tunku', 0.5789833068847656),\n",
              " ('Cogan', 0.5672112703323364),\n",
              " ('hereby', 0.5669563412666321),\n",
              " ('End', 0.5601180195808411),\n",
              " ('Investigation', 0.55833899974823),\n",
              " ('whack', 0.5581566691398621)]"
            ]
          },
          "metadata": {
            "tags": []
          },
          "execution_count": 22
        }
      ]
    },
    {
      "cell_type": "code",
      "metadata": {
        "id": "NVDTp7w6W5fC"
      },
      "source": [
        "model_dbow.save_word2vec_format( fname=\"/content/drive/MyDrive/ML/email-filtering/model_dbow\")"
      ],
      "execution_count": 25,
      "outputs": []
    },
    {
      "cell_type": "code",
      "metadata": {
        "id": "1IXhb5pdXP7_"
      },
      "source": [
        "model_pvdm.save_word2vec_format( fname=\"/content/drive/MyDrive/ML/email-filtering/model_pvdm\")"
      ],
      "execution_count": 26,
      "outputs": []
    }
  ]
}