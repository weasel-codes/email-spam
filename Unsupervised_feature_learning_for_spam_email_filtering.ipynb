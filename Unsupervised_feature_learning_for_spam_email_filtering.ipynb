{
  "nbformat": 4,
  "nbformat_minor": 0,
  "metadata": {
    "colab": {
      "name": "Unsupervised_feature_learning_for_spam_email_filtering.ipynb",
      "provenance": [],
      "authorship_tag": "ABX9TyNOwKRmAoJQi/GjX8fENSXR",
      "include_colab_link": true
    },
    "kernelspec": {
      "name": "python3",
      "display_name": "Python 3"
    }
  },
  "cells": [
    {
      "cell_type": "markdown",
      "metadata": {
        "id": "view-in-github",
        "colab_type": "text"
      },
      "source": [
        "<a href=\"https://colab.research.google.com/github/weasel-codes/email-spam/blob/main/Unsupervised_feature_learning_for_spam_email_filtering.ipynb\" target=\"_parent\"><img src=\"https://colab.research.google.com/assets/colab-badge.svg\" alt=\"Open In Colab\"/></a>"
      ]
    },
    {
      "cell_type": "markdown",
      "metadata": {
        "id": "y8TVBz9AjGUR"
      },
      "source": [
        "# Unsupervised feature learning for spam email filtering"
      ]
    },
    {
      "cell_type": "code",
      "metadata": {
        "id": "KQIjXTgVi1HD"
      },
      "source": [
        ""
      ],
      "execution_count": null,
      "outputs": []
    }
  ]
}