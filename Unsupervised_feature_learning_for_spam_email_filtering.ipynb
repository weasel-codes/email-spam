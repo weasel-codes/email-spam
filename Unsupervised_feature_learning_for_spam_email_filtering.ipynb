{
  "nbformat": 4,
  "nbformat_minor": 0,
  "metadata": {
    "colab": {
      "name": "Unsupervised_feature_learning_for_spam_email_filtering.ipynb",
      "provenance": [],
      "mount_file_id": "1Gv7igXDc5QfNiEY1jaBHnU8WYuL7YnoV",
      "authorship_tag": "ABX9TyM2uJ4hzI6yGt4n7Y96yX3Y",
      "include_colab_link": true
    },
    "kernelspec": {
      "name": "python3",
      "display_name": "Python 3"
    },
    "accelerator": "GPU"
  },
  "cells": [
    {
      "cell_type": "markdown",
      "metadata": {
        "id": "view-in-github",
        "colab_type": "text"
      },
      "source": [
        "<a href=\"https://colab.research.google.com/github/weasel-codes/email-spam/blob/main/Unsupervised_feature_learning_for_spam_email_filtering.ipynb\" target=\"_parent\"><img src=\"https://colab.research.google.com/assets/colab-badge.svg\" alt=\"Open In Colab\"/></a>"
      ]
    },
    {
      "cell_type": "markdown",
      "metadata": {
        "id": "y8TVBz9AjGUR"
      },
      "source": [
        "# Unsupervised feature learning for spam email filtering"
      ]
    },
    {
      "cell_type": "code",
      "metadata": {
        "id": "KQIjXTgVi1HD"
      },
      "source": [
        "import numpy as np # linear algebra\n",
        "import pandas as pd # data processing, CSV file I/O (e.g. pd.read_csv)\n",
        "import multiprocessing\n",
        "import seaborn as sns\n",
        "import email\n",
        "import matplotlib.pyplot as plt\n",
        "import os"
      ],
      "execution_count": 49,
      "outputs": []
    },
    {
      "cell_type": "markdown",
      "metadata": {
        "id": "tiEyeOdh2U42"
      },
      "source": [
        "# Dataset Import"
      ]
    },
    {
      "cell_type": "markdown",
      "metadata": {
        "id": "YE0IB9iS2ZZy"
      },
      "source": [
        "## Email"
      ]
    },
    {
      "cell_type": "markdown",
      "metadata": {
        "id": "DCPYi9IIIpmk"
      },
      "source": [
        "### Dataset Insight"
      ]
    },
    {
      "cell_type": "code",
      "metadata": {
        "colab": {
          "base_uri": "https://localhost:8080/",
          "height": 224
        },
        "id": "WOmwCIGk2l0F",
        "outputId": "01fd6a0a-becd-4dfb-a767-7f2736609382"
      },
      "source": [
        "df = pd.read_csv(\"/content/drive/MyDrive/ML/email-filtering/eron_email_96.csv\")\n",
        "print(\"email dataset shape : \", df.shape)\n",
        "df.head()"
      ],
      "execution_count": 51,
      "outputs": [
        {
          "output_type": "stream",
          "text": [
            "email dataset shape :  (37308, 2)\n"
          ],
          "name": "stdout"
        },
        {
          "output_type": "execute_result",
          "data": {
            "text/html": [
              "<div>\n",
              "<style scoped>\n",
              "    .dataframe tbody tr th:only-of-type {\n",
              "        vertical-align: middle;\n",
              "    }\n",
              "\n",
              "    .dataframe tbody tr th {\n",
              "        vertical-align: top;\n",
              "    }\n",
              "\n",
              "    .dataframe thead th {\n",
              "        text-align: right;\n",
              "    }\n",
              "</style>\n",
              "<table border=\"1\" class=\"dataframe\">\n",
              "  <thead>\n",
              "    <tr style=\"text-align: right;\">\n",
              "      <th></th>\n",
              "      <th>file</th>\n",
              "      <th>message</th>\n",
              "    </tr>\n",
              "  </thead>\n",
              "  <tbody>\n",
              "    <tr>\n",
              "      <th>0</th>\n",
              "      <td>allen-p/_sent_mail/1.</td>\n",
              "      <td>Message-ID: &lt;18782981.1075855378110.JavaMail.e...</td>\n",
              "    </tr>\n",
              "    <tr>\n",
              "      <th>1</th>\n",
              "      <td>allen-p/_sent_mail/10.</td>\n",
              "      <td>Message-ID: &lt;15464986.1075855378456.JavaMail.e...</td>\n",
              "    </tr>\n",
              "    <tr>\n",
              "      <th>2</th>\n",
              "      <td>allen-p/_sent_mail/100.</td>\n",
              "      <td>Message-ID: &lt;24216240.1075855687451.JavaMail.e...</td>\n",
              "    </tr>\n",
              "    <tr>\n",
              "      <th>3</th>\n",
              "      <td>allen-p/_sent_mail/1000.</td>\n",
              "      <td>Message-ID: &lt;13505866.1075863688222.JavaMail.e...</td>\n",
              "    </tr>\n",
              "    <tr>\n",
              "      <th>4</th>\n",
              "      <td>allen-p/_sent_mail/1001.</td>\n",
              "      <td>Message-ID: &lt;30922949.1075863688243.JavaMail.e...</td>\n",
              "    </tr>\n",
              "  </tbody>\n",
              "</table>\n",
              "</div>"
            ],
            "text/plain": [
              "                       file                                            message\n",
              "0     allen-p/_sent_mail/1.  Message-ID: <18782981.1075855378110.JavaMail.e...\n",
              "1    allen-p/_sent_mail/10.  Message-ID: <15464986.1075855378456.JavaMail.e...\n",
              "2   allen-p/_sent_mail/100.  Message-ID: <24216240.1075855687451.JavaMail.e...\n",
              "3  allen-p/_sent_mail/1000.  Message-ID: <13505866.1075863688222.JavaMail.e...\n",
              "4  allen-p/_sent_mail/1001.  Message-ID: <30922949.1075863688243.JavaMail.e..."
            ]
          },
          "metadata": {
            "tags": []
          },
          "execution_count": 51
        }
      ]
    },
    {
      "cell_type": "code",
      "metadata": {
        "colab": {
          "base_uri": "https://localhost:8080/"
        },
        "id": "uTOYlPgX3B4U",
        "outputId": "972f150f-3b93-461a-db07-807b8fddf0f1"
      },
      "source": [
        "print(df.loc[0]['message'])\n",
        "message = df.loc[2]['message']\n",
        "e = email.message_from_string(message)\n",
        "print(\"######## \\nEmail in json format resembling csv and column wise data : \\n\" , e.items())\n",
        "print(\"printing al the keys in message : \\n\" , e.keys())"
      ],
      "execution_count": 52,
      "outputs": [
        {
          "output_type": "stream",
          "text": [
            "Message-ID: <18782981.1075855378110.JavaMail.evans@thyme>\n",
            "Date: Mon, 14 May 2001 16:39:00 -0700 (PDT)\n",
            "From: phillip.allen@enron.com\n",
            "To: tim.belden@enron.com\n",
            "Subject: \n",
            "Mime-Version: 1.0\n",
            "Content-Type: text/plain; charset=us-ascii\n",
            "Content-Transfer-Encoding: 7bit\n",
            "X-From: Phillip K Allen\n",
            "X-To: Tim Belden <Tim Belden/Enron@EnronXGate>\n",
            "X-cc: \n",
            "X-bcc: \n",
            "X-Folder: \\Phillip_Allen_Jan2002_1\\Allen, Phillip K.\\'Sent Mail\n",
            "X-Origin: Allen-P\n",
            "X-FileName: pallen (Non-Privileged).pst\n",
            "\n",
            "Here is our forecast\n",
            "\n",
            " \n",
            "######## \n",
            "Email in json format resembling csv and column wise data : \n",
            " [('Message-ID', '<24216240.1075855687451.JavaMail.evans@thyme>'), ('Date', 'Wed, 18 Oct 2000 03:00:00 -0700 (PDT)'), ('From', 'phillip.allen@enron.com'), ('To', 'leah.arsdall@enron.com'), ('Subject', 'Re: test'), ('Mime-Version', '1.0'), ('Content-Type', 'text/plain; charset=us-ascii'), ('Content-Transfer-Encoding', '7bit'), ('X-From', 'Phillip K Allen'), ('X-To', 'Leah Van Arsdall'), ('X-cc', ''), ('X-bcc', ''), ('X-Folder', \"\\\\Phillip_Allen_Dec2000\\\\Notes Folders\\\\'sent mail\"), ('X-Origin', 'Allen-P'), ('X-FileName', 'pallen.nsf')]\n",
            "printing al the keys in message : \n",
            " ['Message-ID', 'Date', 'From', 'To', 'Subject', 'Mime-Version', 'Content-Type', 'Content-Transfer-Encoding', 'X-From', 'X-To', 'X-cc', 'X-bcc', 'X-Folder', 'X-Origin', 'X-FileName']\n"
          ],
          "name": "stdout"
        }
      ]
    },
    {
      "cell_type": "markdown",
      "metadata": {
        "id": "NEXDNVQSIsPr"
      },
      "source": [
        "### Generating required columns"
      ]
    },
    {
      "cell_type": "code",
      "metadata": {
        "colab": {
          "base_uri": "https://localhost:8080/",
          "height": 265
        },
        "id": "hjRhoC-58HhV",
        "outputId": "16ce402b-86b6-42fc-e155-603fb2ba7a26"
      },
      "source": [
        "# fetching only required columns\n",
        "def body(d):\n",
        "    message = df['message']\n",
        "    column = []\n",
        "    frm = []\n",
        "    sub = []\n",
        "    emp = []\n",
        "\n",
        "    for message in messages:\n",
        "        e = email.message_from_string(message)\n",
        "        column.append(e.get_payload())\n",
        "        frm.append(e.get('From'))\n",
        "        sub.append(e.get('Subject'))\n",
        "\n",
        "    f = df['file']\n",
        "    for string in f:\n",
        "      emp.append(string.split(\"/\")[0])\n",
        "\n",
        "    return column, frm, sub, emp\n",
        "\n",
        "df['body'], df['from'], df['subject'], df['emp'] = body(df)\n",
        "df.head(3)"
      ],
      "execution_count": 53,
      "outputs": [
        {
          "output_type": "execute_result",
          "data": {
            "text/html": [
              "<div>\n",
              "<style scoped>\n",
              "    .dataframe tbody tr th:only-of-type {\n",
              "        vertical-align: middle;\n",
              "    }\n",
              "\n",
              "    .dataframe tbody tr th {\n",
              "        vertical-align: top;\n",
              "    }\n",
              "\n",
              "    .dataframe thead th {\n",
              "        text-align: right;\n",
              "    }\n",
              "</style>\n",
              "<table border=\"1\" class=\"dataframe\">\n",
              "  <thead>\n",
              "    <tr style=\"text-align: right;\">\n",
              "      <th></th>\n",
              "      <th>file</th>\n",
              "      <th>message</th>\n",
              "      <th>body</th>\n",
              "      <th>from</th>\n",
              "      <th>subject</th>\n",
              "      <th>emp</th>\n",
              "    </tr>\n",
              "  </thead>\n",
              "  <tbody>\n",
              "    <tr>\n",
              "      <th>0</th>\n",
              "      <td>allen-p/_sent_mail/1.</td>\n",
              "      <td>Message-ID: &lt;18782981.1075855378110.JavaMail.e...</td>\n",
              "      <td>Here is our forecast\\n\\n</td>\n",
              "      <td>phillip.allen@enron.com</td>\n",
              "      <td></td>\n",
              "      <td>allen-p</td>\n",
              "    </tr>\n",
              "    <tr>\n",
              "      <th>1</th>\n",
              "      <td>allen-p/_sent_mail/10.</td>\n",
              "      <td>Message-ID: &lt;15464986.1075855378456.JavaMail.e...</td>\n",
              "      <td>Traveling to have a business meeting takes the...</td>\n",
              "      <td>phillip.allen@enron.com</td>\n",
              "      <td>Re:</td>\n",
              "      <td>allen-p</td>\n",
              "    </tr>\n",
              "    <tr>\n",
              "      <th>2</th>\n",
              "      <td>allen-p/_sent_mail/100.</td>\n",
              "      <td>Message-ID: &lt;24216240.1075855687451.JavaMail.e...</td>\n",
              "      <td>test successful.  way to go!!!</td>\n",
              "      <td>phillip.allen@enron.com</td>\n",
              "      <td>Re: test</td>\n",
              "      <td>allen-p</td>\n",
              "    </tr>\n",
              "  </tbody>\n",
              "</table>\n",
              "</div>"
            ],
            "text/plain": [
              "                      file  ...      emp\n",
              "0    allen-p/_sent_mail/1.  ...  allen-p\n",
              "1   allen-p/_sent_mail/10.  ...  allen-p\n",
              "2  allen-p/_sent_mail/100.  ...  allen-p\n",
              "\n",
              "[3 rows x 6 columns]"
            ]
          },
          "metadata": {
            "tags": []
          },
          "execution_count": 53
        }
      ]
    },
    {
      "cell_type": "markdown",
      "metadata": {
        "id": "T-hCGXU3Cmwu"
      },
      "source": [
        "### Deleted not required columns"
      ]
    },
    {
      "cell_type": "code",
      "metadata": {
        "colab": {
          "base_uri": "https://localhost:8080/",
          "height": 432
        },
        "id": "qwWpH154-Tqi",
        "outputId": "623cacfc-2c41-4e48-ce89-bc26360c6ddc"
      },
      "source": [
        "df.head()"
      ],
      "execution_count": 54,
      "outputs": [
        {
          "output_type": "execute_result",
          "data": {
            "text/html": [
              "<div>\n",
              "<style scoped>\n",
              "    .dataframe tbody tr th:only-of-type {\n",
              "        vertical-align: middle;\n",
              "    }\n",
              "\n",
              "    .dataframe tbody tr th {\n",
              "        vertical-align: top;\n",
              "    }\n",
              "\n",
              "    .dataframe thead th {\n",
              "        text-align: right;\n",
              "    }\n",
              "</style>\n",
              "<table border=\"1\" class=\"dataframe\">\n",
              "  <thead>\n",
              "    <tr style=\"text-align: right;\">\n",
              "      <th></th>\n",
              "      <th>file</th>\n",
              "      <th>message</th>\n",
              "      <th>body</th>\n",
              "      <th>from</th>\n",
              "      <th>subject</th>\n",
              "      <th>emp</th>\n",
              "    </tr>\n",
              "  </thead>\n",
              "  <tbody>\n",
              "    <tr>\n",
              "      <th>0</th>\n",
              "      <td>allen-p/_sent_mail/1.</td>\n",
              "      <td>Message-ID: &lt;18782981.1075855378110.JavaMail.e...</td>\n",
              "      <td>Here is our forecast\\n\\n</td>\n",
              "      <td>phillip.allen@enron.com</td>\n",
              "      <td></td>\n",
              "      <td>allen-p</td>\n",
              "    </tr>\n",
              "    <tr>\n",
              "      <th>1</th>\n",
              "      <td>allen-p/_sent_mail/10.</td>\n",
              "      <td>Message-ID: &lt;15464986.1075855378456.JavaMail.e...</td>\n",
              "      <td>Traveling to have a business meeting takes the...</td>\n",
              "      <td>phillip.allen@enron.com</td>\n",
              "      <td>Re:</td>\n",
              "      <td>allen-p</td>\n",
              "    </tr>\n",
              "    <tr>\n",
              "      <th>2</th>\n",
              "      <td>allen-p/_sent_mail/100.</td>\n",
              "      <td>Message-ID: &lt;24216240.1075855687451.JavaMail.e...</td>\n",
              "      <td>test successful.  way to go!!!</td>\n",
              "      <td>phillip.allen@enron.com</td>\n",
              "      <td>Re: test</td>\n",
              "      <td>allen-p</td>\n",
              "    </tr>\n",
              "    <tr>\n",
              "      <th>3</th>\n",
              "      <td>allen-p/_sent_mail/1000.</td>\n",
              "      <td>Message-ID: &lt;13505866.1075863688222.JavaMail.e...</td>\n",
              "      <td>Randy,\\n\\n Can you send me a schedule of the s...</td>\n",
              "      <td>phillip.allen@enron.com</td>\n",
              "      <td></td>\n",
              "      <td>allen-p</td>\n",
              "    </tr>\n",
              "    <tr>\n",
              "      <th>4</th>\n",
              "      <td>allen-p/_sent_mail/1001.</td>\n",
              "      <td>Message-ID: &lt;30922949.1075863688243.JavaMail.e...</td>\n",
              "      <td>Let's shoot for Tuesday at 11:45.</td>\n",
              "      <td>phillip.allen@enron.com</td>\n",
              "      <td>Re: Hello</td>\n",
              "      <td>allen-p</td>\n",
              "    </tr>\n",
              "  </tbody>\n",
              "</table>\n",
              "</div>"
            ],
            "text/plain": [
              "                       file  ...      emp\n",
              "0     allen-p/_sent_mail/1.  ...  allen-p\n",
              "1    allen-p/_sent_mail/10.  ...  allen-p\n",
              "2   allen-p/_sent_mail/100.  ...  allen-p\n",
              "3  allen-p/_sent_mail/1000.  ...  allen-p\n",
              "4  allen-p/_sent_mail/1001.  ...  allen-p\n",
              "\n",
              "[5 rows x 6 columns]"
            ]
          },
          "metadata": {
            "tags": []
          },
          "execution_count": 54
        }
      ]
    },
    {
      "cell_type": "code",
      "metadata": {
        "colab": {
          "base_uri": "https://localhost:8080/",
          "height": 206
        },
        "id": "ZxTwpAwsCQcT",
        "outputId": "2ee15442-1259-4157-9416-1d700f1b8475"
      },
      "source": [
        "df.drop(labels = ['file','message'], axis=1, inplace=True)\n",
        "df.head()"
      ],
      "execution_count": 55,
      "outputs": [
        {
          "output_type": "execute_result",
          "data": {
            "text/html": [
              "<div>\n",
              "<style scoped>\n",
              "    .dataframe tbody tr th:only-of-type {\n",
              "        vertical-align: middle;\n",
              "    }\n",
              "\n",
              "    .dataframe tbody tr th {\n",
              "        vertical-align: top;\n",
              "    }\n",
              "\n",
              "    .dataframe thead th {\n",
              "        text-align: right;\n",
              "    }\n",
              "</style>\n",
              "<table border=\"1\" class=\"dataframe\">\n",
              "  <thead>\n",
              "    <tr style=\"text-align: right;\">\n",
              "      <th></th>\n",
              "      <th>body</th>\n",
              "      <th>from</th>\n",
              "      <th>subject</th>\n",
              "      <th>emp</th>\n",
              "    </tr>\n",
              "  </thead>\n",
              "  <tbody>\n",
              "    <tr>\n",
              "      <th>0</th>\n",
              "      <td>Here is our forecast\\n\\n</td>\n",
              "      <td>phillip.allen@enron.com</td>\n",
              "      <td></td>\n",
              "      <td>allen-p</td>\n",
              "    </tr>\n",
              "    <tr>\n",
              "      <th>1</th>\n",
              "      <td>Traveling to have a business meeting takes the...</td>\n",
              "      <td>phillip.allen@enron.com</td>\n",
              "      <td>Re:</td>\n",
              "      <td>allen-p</td>\n",
              "    </tr>\n",
              "    <tr>\n",
              "      <th>2</th>\n",
              "      <td>test successful.  way to go!!!</td>\n",
              "      <td>phillip.allen@enron.com</td>\n",
              "      <td>Re: test</td>\n",
              "      <td>allen-p</td>\n",
              "    </tr>\n",
              "    <tr>\n",
              "      <th>3</th>\n",
              "      <td>Randy,\\n\\n Can you send me a schedule of the s...</td>\n",
              "      <td>phillip.allen@enron.com</td>\n",
              "      <td></td>\n",
              "      <td>allen-p</td>\n",
              "    </tr>\n",
              "    <tr>\n",
              "      <th>4</th>\n",
              "      <td>Let's shoot for Tuesday at 11:45.</td>\n",
              "      <td>phillip.allen@enron.com</td>\n",
              "      <td>Re: Hello</td>\n",
              "      <td>allen-p</td>\n",
              "    </tr>\n",
              "  </tbody>\n",
              "</table>\n",
              "</div>"
            ],
            "text/plain": [
              "                                                body  ...      emp\n",
              "0                          Here is our forecast\\n\\n   ...  allen-p\n",
              "1  Traveling to have a business meeting takes the...  ...  allen-p\n",
              "2                     test successful.  way to go!!!  ...  allen-p\n",
              "3  Randy,\\n\\n Can you send me a schedule of the s...  ...  allen-p\n",
              "4                Let's shoot for Tuesday at 11:45.    ...  allen-p\n",
              "\n",
              "[5 rows x 4 columns]"
            ]
          },
          "metadata": {
            "tags": []
          },
          "execution_count": 55
        }
      ]
    },
    {
      "cell_type": "markdown",
      "metadata": {
        "id": "tHs3Mn-kI5c8"
      },
      "source": [
        "### Replace empty missing values in subject with np.nan"
      ]
    },
    {
      "cell_type": "code",
      "metadata": {
        "colab": {
          "base_uri": "https://localhost:8080/"
        },
        "id": "ERjk5iH5JRrV",
        "outputId": "1f6d8e0b-3305-4bfe-fdee-cb4779a82821"
      },
      "source": [
        "df.isnull().sum(), df.shape"
      ],
      "execution_count": 56,
      "outputs": [
        {
          "output_type": "execute_result",
          "data": {
            "text/plain": [
              "(body       0\n",
              " from       0\n",
              " subject    0\n",
              " emp        0\n",
              " dtype: int64, (37308, 4))"
            ]
          },
          "metadata": {
            "tags": []
          },
          "execution_count": 56
        }
      ]
    },
    {
      "cell_type": "code",
      "metadata": {
        "id": "IjWpJHBZI50u"
      },
      "source": [
        "def replace_empty_with_nan(subject):\n",
        "    column = []\n",
        "    for val in subject:\n",
        "        if (val == \"\"):\n",
        "            column.append(np.nan) \n",
        "        else:\n",
        "            column.append(val)\n",
        "    return column\n",
        "df['subject'] = replace_empty_with_nan(df['subject'])"
      ],
      "execution_count": 57,
      "outputs": []
    },
    {
      "cell_type": "markdown",
      "metadata": {
        "id": "fEtkwx_WJFBz"
      },
      "source": [
        "### Check for isnull"
      ]
    },
    {
      "cell_type": "code",
      "metadata": {
        "colab": {
          "base_uri": "https://localhost:8080/"
        },
        "id": "zcNY-6bsI3Ee",
        "outputId": "4b63b1ba-abe0-4a46-d671-088f6698aa35"
      },
      "source": [
        "# drop missing value rows\n",
        "df.dropna(axis=0, inplace=True)\n",
        "df.isnull().sum(), df.shape"
      ],
      "execution_count": 58,
      "outputs": [
        {
          "output_type": "execute_result",
          "data": {
            "text/plain": [
              "(body       0\n",
              " from       0\n",
              " subject    0\n",
              " emp        0\n",
              " dtype: int64, (34553, 4))"
            ]
          },
          "metadata": {
            "tags": []
          },
          "execution_count": 58
        }
      ]
    },
    {
      "cell_type": "markdown",
      "metadata": {
        "id": "dVsgKjhFJuNJ"
      },
      "source": [
        "### Top 10 email sender"
      ]
    },
    {
      "cell_type": "markdown",
      "metadata": {
        "id": "YdIulI97J_Uh"
      },
      "source": [
        "SELECT"
      ]
    },
    {
      "cell_type": "code",
      "metadata": {
        "colab": {
          "base_uri": "https://localhost:8080/",
          "height": 363
        },
        "id": "hrJrLnVaJzyw",
        "outputId": "a1ff8dc3-aa58-4043-ddf1-a4ef315b097e"
      },
      "source": [
        "top_10 = pd.DataFrame(df['emp'].value_counts()[:10])\n",
        "top_10.reset_index(inplace=True)\n",
        "top_10.columns = [\"emp\", \"count\"]\n",
        "top_10"
      ],
      "execution_count": 62,
      "outputs": [
        {
          "output_type": "execute_result",
          "data": {
            "text/html": [
              "<div>\n",
              "<style scoped>\n",
              "    .dataframe tbody tr th:only-of-type {\n",
              "        vertical-align: middle;\n",
              "    }\n",
              "\n",
              "    .dataframe tbody tr th {\n",
              "        vertical-align: top;\n",
              "    }\n",
              "\n",
              "    .dataframe thead th {\n",
              "        text-align: right;\n",
              "    }\n",
              "</style>\n",
              "<table border=\"1\" class=\"dataframe\">\n",
              "  <thead>\n",
              "    <tr style=\"text-align: right;\">\n",
              "      <th></th>\n",
              "      <th>emp</th>\n",
              "      <th>count</th>\n",
              "    </tr>\n",
              "  </thead>\n",
              "  <tbody>\n",
              "    <tr>\n",
              "      <th>0</th>\n",
              "      <td>beck-s</td>\n",
              "      <td>11693</td>\n",
              "    </tr>\n",
              "    <tr>\n",
              "      <th>1</th>\n",
              "      <td>bass-e</td>\n",
              "      <td>7229</td>\n",
              "    </tr>\n",
              "    <tr>\n",
              "      <th>2</th>\n",
              "      <td>arnold-j</td>\n",
              "      <td>3896</td>\n",
              "    </tr>\n",
              "    <tr>\n",
              "      <th>3</th>\n",
              "      <td>blair-l</td>\n",
              "      <td>3369</td>\n",
              "    </tr>\n",
              "    <tr>\n",
              "      <th>4</th>\n",
              "      <td>baughman-d</td>\n",
              "      <td>2700</td>\n",
              "    </tr>\n",
              "    <tr>\n",
              "      <th>5</th>\n",
              "      <td>allen-p</td>\n",
              "      <td>2174</td>\n",
              "    </tr>\n",
              "    <tr>\n",
              "      <th>6</th>\n",
              "      <td>badeer-r</td>\n",
              "      <td>868</td>\n",
              "    </tr>\n",
              "    <tr>\n",
              "      <th>7</th>\n",
              "      <td>brawner-s</td>\n",
              "      <td>760</td>\n",
              "    </tr>\n",
              "    <tr>\n",
              "      <th>8</th>\n",
              "      <td>benson-r</td>\n",
              "      <td>755</td>\n",
              "    </tr>\n",
              "    <tr>\n",
              "      <th>9</th>\n",
              "      <td>arora-h</td>\n",
              "      <td>634</td>\n",
              "    </tr>\n",
              "  </tbody>\n",
              "</table>\n",
              "</div>"
            ],
            "text/plain": [
              "          emp  count\n",
              "0      beck-s  11693\n",
              "1      bass-e   7229\n",
              "2    arnold-j   3896\n",
              "3     blair-l   3369\n",
              "4  baughman-d   2700\n",
              "5     allen-p   2174\n",
              "6    badeer-r    868\n",
              "7   brawner-s    760\n",
              "8    benson-r    755\n",
              "9     arora-h    634"
            ]
          },
          "metadata": {
            "tags": []
          },
          "execution_count": 62
        }
      ]
    },
    {
      "cell_type": "markdown",
      "metadata": {
        "id": "z0eJk3WUJ_aZ"
      },
      "source": [
        "VISUALIZE"
      ]
    },
    {
      "cell_type": "code",
      "metadata": {
        "colab": {
          "base_uri": "https://localhost:8080/",
          "height": 513
        },
        "id": "i52Vua17JwPn",
        "outputId": "fddca996-c271-413b-8af2-2694d93387a0"
      },
      "source": [
        "plt.figure(figsize=(10,8))\n",
        "sns.barplot(y=\"emp\", x=\"count\", data=top_10, palette=\"Blues_d\")\n",
        "plt.title(\"Top 20 highest email sender employee\")\n",
        "plt.xlabel(\"Count\")\n",
        "plt.ylabel(\"Employee_name\")\n",
        "plt.show()\n",
        "\n"
      ],
      "execution_count": 66,
      "outputs": [
        {
          "output_type": "display_data",
          "data": {
            "image/png": "[encoded data removed]",
            "text/plain": [
              "<Figure size 720x576 with 1 Axes>"
            ]
          },
          "metadata": {
            "tags": [],
            "needs_background": "light"
          }
        }
      ]
    },
    {
      "cell_type": "code",
      "metadata": {
        "id": "H5dkRAVTKvK1"
      },
      "source": [
        "# save the data\n",
        "df.to_csv(\"/content/drive/MyDrive/ML/email-filtering/enron_email_96_cleaned_data.csv\", index=False)"
      ],
      "execution_count": 67,
      "outputs": []
    },
    {
      "cell_type": "markdown",
      "metadata": {
        "id": "h6DJyBriLD3f"
      },
      "source": [
        "## IMDB Review"
      ]
    },
    {
      "cell_type": "code",
      "metadata": {
        "id": "bK1U1t6HLIaw"
      },
      "source": [
        "arry = []\n",
        "file_name = []\n",
        "# iterate through all file \n",
        "for file in os.listdir(\"/content/drive/MyDrive/ML/email-filtering/imdb_unsup\"): \n",
        "    # Check whether file is in text format or not \n",
        "    if file.endswith(\".txt\"): \n",
        "        file_path = f\"/content/drive/MyDrive/ML/email-filtering/imdb_unsup/{file}\"\n",
        "        # call read text file function \n",
        "        # read_text_file(file_path) \n",
        "        f = open(file_path, \"r\")\n",
        "        arry.append(f.readlines())\n",
        "        file_name.append(f.name)\n",
        "\n",
        "imdb = [arry, file_name]\n",
        "print(imdb)"
      ],
      "execution_count": null,
      "outputs": []
    }
  ]
}